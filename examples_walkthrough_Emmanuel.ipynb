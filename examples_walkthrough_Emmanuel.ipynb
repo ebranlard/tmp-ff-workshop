{
 "cells": [
  {
   "cell_type": "code",
   "execution_count": 1,
   "id": "dda16bbb-abd4-464a-942a-134762af1fea",
   "metadata": {
    "scrolled": true
   },
   "outputs": [],
   "source": [
    "# Some Jupyter notebook convenient functions\n",
    "%load_ext autoreload\n",
    "%autoreload 2\n",
    "from welib.essentials import *"
   ]
  },
  {
   "cell_type": "markdown",
   "id": "573cad5a-f3ca-473f-8acf-addfc79ab25a",
   "metadata": {},
   "source": [
    "## Prerequisites\n",
    "- The latest version of the python package `openfast_toolbox` needs to be installed and accessible by this notebook. \n",
    "\n",
    "- You can download and install it by following these steps:\n",
    "\n",
    "```bash\n",
    "git clone https://github.com/openfast/openfast_toolbox\n",
    "cd openfast_toolbox\n",
    "pip install -e . \n",
    "```\n",
    "\n",
    "- If this is too advanced for you, you can place the folder `openfast_toolbox` provided with this package right next to this notebook. This way, the jupyter_notebook should be able to run directly.\n",
    "\n",
    "    "
   ]
  },
  {
   "cell_type": "code",
   "execution_count": 2,
   "id": "97316daf-c35d-4d7e-844b-5ad81c450065",
   "metadata": {},
   "outputs": [
    {
     "data": {
      "text/html": [
       "<pre style='margin:0;padding:0;font-family:monospace;white-space:pre-wrap;'><span style=\"color:#388e3c;font-weight:700;\">[ OK ] The toolbox was successfully loaded!</span></pre>"
      ],
      "text/plain": [
       "<IPython.core.display.HTML object>"
      ]
     },
     "metadata": {},
     "output_type": "display_data"
    }
   ],
   "source": [
    "### Load the openfast_toolbox and import the main class we will use `FFCaseCreation`\n",
    "from openfast_toolbox.fastfarm.FASTFarmCaseCreation import FFCaseCreation, check_files_exist\n",
    "from openfast_toolbox.tools.strings import OK\n",
    "\n",
    "OK('The toolbox was successfully loaded!')"
   ]
  },
  {
   "cell_type": "markdown",
   "id": "4a66165e-3799-46c8-b38f-ca45ca4dc8a8",
   "metadata": {
    "tags": []
   },
   "source": [
    "# 1 - Example 1: `Ex1_FASTFarm_discretization.py`\n",
    "\n",
    "This example calculates the desired temporal and spatial resolution given a wind farm layout. \n",
    "\n",
    "The FAST.Farm guidelines requires several parameters to be set to find the resolutsion:\n",
    " - Spatial parameters: max chord (`cmax`), rotor diameter (`D`), meandering constant (`Cmeander`)\n",
    " - Temporal parameters: maximum excitation frequency (`fmax`), mean wind speed (`vhub`)\n",
    " - Model parameters: wake models (`mod_wake`), and background inflow type (`inflowType`)\n",
    "\n",
    "Based on these parameters, the FFCaseCreation class can compute some default resolution, but it is often required to adjust some of them manually and not fully rely on the defaults.\n",
    "\n",
    "In this example, we do the following:\n",
    "- First, we obtain the default parameters and plot the layout\n",
    "- Then, we manually adjust some of the resolution parameters\n",
    "\n",
    "\n"
   ]
  },
  {
   "cell_type": "markdown",
   "id": "6d9ba06e-a787-4a9a-9c23-fd558f43c8e9",
   "metadata": {},
   "source": [
    "## 1.1 Parameters affecting the resolution"
   ]
  },
  {
   "cell_type": "code",
   "execution_count": 36,
   "id": "564cc519-f5d7-418e-a207-631284e7bf1c",
   "metadata": {},
   "outputs": [],
   "source": [
    "# -----------------------------------------------------------------------------\n",
    "# --------------------------- Farm parameters ---------------------------------\n",
    "# -----------------------------------------------------------------------------\n",
    "# ----------- General turbine parameters\n",
    "cmax     = 5      # Maximum blade chord (m)\n",
    "fmax     = 10/6   # Maximum excitation frequency (Hz)\n",
    "Cmeander = 1.9    # Meandering constant (-)\n",
    "D = 240           # Rotor diameter (m)\n",
    "zhub = 150        # Hub height (m)\n",
    "# ----------- Wind farm\n",
    "# The wts dictionary holds information of each wind turbine. The allowed entries\n",
    "# are: x, y, z, D, zhub, cmax, fmax, Cmeander, and phi_deg. The phi_deg is the\n",
    "# only entry that is optional and is related to floating platform heading angle,\n",
    "# given in degrees. The angle phi_deg is not illustrated on the example below.\n",
    "wts = {\n",
    "    0 :{'x':  0.0, 'y':    0,  'z':0.0, 'D':D, 'zhub':zhub, 'cmax':cmax, 'fmax':fmax, 'Cmeander':Cmeander, 'name':'T1'},\n",
    "    1 :{'x':  5*D, 'y':   D/2, 'z':0.0, 'D':D, 'zhub':zhub, 'cmax':cmax, 'fmax':fmax, 'Cmeander':Cmeander, 'name':'T2'},\n",
    "}\n",
    "# -----------------------------------------------------------------------------\n",
    "# ------------------- Inflow conditions and input files -----------------------\n",
    "# -----------------------------------------------------------------------------\n",
    "# ----------- Additional variables\n",
    "mod_wake = 2    # Wake model. 1: Polar, 2: Curled, 3: Cartesian. NOTE: Resolution guidelines vary based on this.\n",
    "# ----------- Inflow parameters\n",
    "inflowType = 'TS' # TS: TurbSim, or LES: LES (VTK files needs to exist)\n",
    "# ----------- Desired sweeps of inflow conditions (here, only one value, no sweep)\n",
    "vhub       = [8]  # NOTE: use the maximum velocity here [m/s]"
   ]
  },
  {
   "cell_type": "markdown",
   "id": "e48a5611-6a3b-4d4b-a54a-7ffe9fa69ee2",
   "metadata": {},
   "source": [
    "## 1.2 Getting the default resolution and plotting the layout"
   ]
  },
  {
   "cell_type": "code",
   "execution_count": 38,
   "id": "0adfc1eb-f406-4994-9e99-1f4955d06445",
   "metadata": {},
   "outputs": [
    {
     "data": {
      "text/html": [
       "<pre style='margin:0;padding:0;font-family:monospace;white-space:pre-wrap;'><span style=\"color:#f7b500;font-weight:700;\">[WARN] One or more temporal or spatial resolution for low- and high-res domains were not given.\n",
       "       Estimated values for curled wake model shown below.</span></pre>"
      ],
      "text/plain": [
       "<IPython.core.display.HTML object>"
      ]
     },
     "metadata": {},
     "output_type": "display_data"
    },
    {
     "data": {
      "text/html": [
       "<pre style='margin:0;padding:0;font-family:monospace;white-space:pre-wrap;'><span style=\"color:inherit;\">[INFO] Low-res spatial resolution (ds_low) should be &gt;=24.32 m. To be a multiple of ds_high=5.0 m, we pick ds_low=20.0 m</span></pre>"
      ],
      "text/plain": [
       "<IPython.core.display.HTML object>"
      ]
     },
     "metadata": {},
     "output_type": "display_data"
    },
    {
     "data": {
      "text/html": [
       "<pre style='margin:0;padding:0;font-family:monospace;white-space:pre-wrap;'><span style=\"color:inherit;\">[INFO] Resolution - Calculated values:</span></pre>"
      ],
      "text/plain": [
       "<IPython.core.display.HTML object>"
      ]
     },
     "metadata": {},
     "output_type": "display_data"
    },
    {
     "data": {
      "text/html": [
       "<pre style='margin:0;padding:0;font-family:monospace;white-space:pre-wrap;'><span style=\"color:inherit;font-weight:700;\">       High-resolution: ds_high: 5.0 m, dt_high: 0.3 s</span></pre>"
      ],
      "text/plain": [
       "<IPython.core.display.HTML object>"
      ]
     },
     "metadata": {},
     "output_type": "display_data"
    },
    {
     "data": {
      "text/html": [
       "<pre style='margin:0;padding:0;font-family:monospace;white-space:pre-wrap;'><span style=\"color:inherit;font-weight:700;\">       Low-resolution:  ds_low : 20.0 m, dt_low: 0.9 s</span></pre>"
      ],
      "text/plain": [
       "<IPython.core.display.HTML object>"
      ]
     },
     "metadata": {},
     "output_type": "display_data"
    },
    {
     "data": {
      "text/html": [
       "<pre style='margin:0;padding:0;font-family:monospace;white-space:pre-wrap;'><span style=\"color:inherit;\">[INFO] If the above values are too fine or manual tuning is warranted, specify them manually.</span></pre>"
      ],
      "text/plain": [
       "<IPython.core.display.HTML object>"
      ]
     },
     "metadata": {},
     "output_type": "display_data"
    },
    {
     "name": "stdout",
     "output_type": "stream",
     "text": [
      "       To do that, specify the values directly to `FFCaseCreation`, e.g.:\n",
      "       `dt_high = 0.6`; `ds_high = 10.0`; `dt_low  = 1.8`; `ds_low  = 40.0`; \n"
     ]
    }
   ],
   "source": [
    "# -----------------------------------------------------------------------------\n",
    "# -------------------- FAST.Farm initial setup --------------------------------\n",
    "# -----------------------------------------------------------------------------\n",
    "# ----------- Initial setup\n",
    "# Below we provide the minimal set of arguments needed to compute the resolution automatically.\n",
    "ffcc = FFCaseCreation(wts=wts, vhub=vhub, \n",
    "                      mod_wake=mod_wake,\n",
    "                      inflowType=inflowType)"
   ]
  },
  {
   "cell_type": "code",
   "execution_count": 40,
   "id": "9368a2b3-a214-4a0b-939c-6c857d6258c6",
   "metadata": {},
   "outputs": [
    {
     "data": {
      "image/png": "[encoded data removed]",
      "text/plain": [
       "<Figure size 1400x700 with 1 Axes>"
      ]
     },
     "metadata": {},
     "output_type": "display_data"
    }
   ],
   "source": [
    "# Plot the FARM Layout\n",
    "ffcc.plot()"
   ]
  },
  {
   "cell_type": "markdown",
   "id": "d7ca017d-0f90-486c-bb79-edd8a3524d5d",
   "metadata": {},
   "source": [
    "The call to `FFCaseCreation` with no resolution expicitely provided (i.e., all the arguments `ds_low`, `dt_high` are set to  `None`) triggers the lengthy message above. From there, we can just check if those numbers make sense given the available computational resources. Highlight the warning printed with further instructions. Also, note that `dt_high=0.3` is a just a consequence of the value we selected for `fmax`, which isn't the actual maximum exitation frequency of the IEA 15MW. It is slightly more conservative than the (already conservative) 12P excitation frequency of about 1.5Hz. The reason we chose 10/6 is to get a round number for dt_high."
   ]
  },
  {
   "cell_type": "markdown",
   "id": "f0b16399-e751-40b7-ba10-85faec319dcc",
   "metadata": {},
   "source": [
    "## 1.3 Adjusting the resolution"
   ]
  },
  {
   "cell_type": "markdown",
   "id": "664a2402-775d-4c95-8ea5-ed586158d3b1",
   "metadata": {},
   "source": [
    "The output message above is saying that the low-res should be 24.32, but since it needs to be a multiple of the high res, then it automatically selects 20 m. However, since 24.32 is close to 25, we might want to just run at 25. Then, an option is to re-run the same command, but now passing a value for `ds_low`:"
   ]
  },
  {
   "cell_type": "code",
   "execution_count": 41,
   "id": "d050827e-5bc7-4d15-a44d-256a9a5b46c3",
   "metadata": {},
   "outputs": [
    {
     "data": {
      "text/html": [
       "<pre style='margin:0;padding:0;font-family:monospace;white-space:pre-wrap;'><span style=\"color:#f7b500;font-weight:700;\">[WARN] One or more temporal or spatial resolution for low- and high-res domains were not given.\n",
       "       Estimated values for curled wake model shown below.</span></pre>"
      ],
      "text/plain": [
       "<IPython.core.display.HTML object>"
      ]
     },
     "metadata": {},
     "output_type": "display_data"
    },
    {
     "data": {
      "text/html": [
       "<pre style='margin:0;padding:0;font-family:monospace;white-space:pre-wrap;'><span style=\"color:#f7b500;font-weight:700;\">[WARN] LOW-RES SPATIAL RESOLUTION GIVEN. CONVERTING FATAL ERRORS ON LOW-RES BOX CHECKS TO WARNINGS.</span></pre>"
      ],
      "text/plain": [
       "<IPython.core.display.HTML object>"
      ]
     },
     "metadata": {},
     "output_type": "display_data"
    },
    {
     "data": {
      "text/html": [
       "<pre style='margin:0;padding:0;font-family:monospace;white-space:pre-wrap;'><span style=\"color:inherit;\">[INFO] Resolution - Calculated values:</span></pre>"
      ],
      "text/plain": [
       "<IPython.core.display.HTML object>"
      ]
     },
     "metadata": {},
     "output_type": "display_data"
    },
    {
     "data": {
      "text/html": [
       "<pre style='margin:0;padding:0;font-family:monospace;white-space:pre-wrap;'><span style=\"color:inherit;font-weight:700;\">       High-resolution: ds_high: 5.0 m, dt_high: 0.3 s</span></pre>"
      ],
      "text/plain": [
       "<IPython.core.display.HTML object>"
      ]
     },
     "metadata": {},
     "output_type": "display_data"
    },
    {
     "data": {
      "text/html": [
       "<pre style='margin:0;padding:0;font-family:monospace;white-space:pre-wrap;'><span style=\"color:inherit;font-weight:700;\">       Low-resolution:  ds_low : 25 m, dt_low: 0.9 s</span></pre>"
      ],
      "text/plain": [
       "<IPython.core.display.HTML object>"
      ]
     },
     "metadata": {},
     "output_type": "display_data"
    },
    {
     "data": {
      "text/html": [
       "<pre style='margin:0;padding:0;font-family:monospace;white-space:pre-wrap;'><span style=\"color:inherit;\">[INFO] If the above values are too fine or manual tuning is warranted, specify them manually.</span></pre>"
      ],
      "text/plain": [
       "<IPython.core.display.HTML object>"
      ]
     },
     "metadata": {},
     "output_type": "display_data"
    },
    {
     "name": "stdout",
     "output_type": "stream",
     "text": [
      "       To do that, specify the values directly to `FFCaseCreation`, e.g.:\n",
      "       `dt_high = 0.6`; `ds_high = 10.0`; `dt_low  = 1.8`; `ds_low  = 50`; \n"
     ]
    }
   ],
   "source": [
    "ds_low = 25 # user define low resolution [m]\n",
    "# ----------- Initial setup (Now, with ds_low)\n",
    "ffcc = FFCaseCreation(wts=wts, vhub=vhub, \n",
    "                      ds_low=ds_low,\n",
    "                      mod_wake=mod_wake,\n",
    "                      inflowType=inflowType, verbose=0)"
   ]
  },
  {
   "cell_type": "markdown",
   "id": "e7d421da-469b-4cd0-974f-f1b828952b37",
   "metadata": {},
   "source": [
    "Note how now the low-res grid resolution is set to 25 m. We can do the same with the dt if we want. Let's say we want the time steps of the low to be a more round number, we can set both dts:"
   ]
  },
  {
   "cell_type": "code",
   "execution_count": 42,
   "id": "290a3ba4-7f20-4114-bd3b-c0fd6d2b711c",
   "metadata": {},
   "outputs": [
    {
     "data": {
      "text/html": [
       "<pre style='margin:0;padding:0;font-family:monospace;white-space:pre-wrap;'><span style=\"color:#f7b500;font-weight:700;\">[WARN] One or more temporal or spatial resolution for low- and high-res domains were not given.\n",
       "       Estimated values for curled wake model shown below.</span></pre>"
      ],
      "text/plain": [
       "<IPython.core.display.HTML object>"
      ]
     },
     "metadata": {},
     "output_type": "display_data"
    },
    {
     "data": {
      "text/html": [
       "<pre style='margin:0;padding:0;font-family:monospace;white-space:pre-wrap;'><span style=\"color:#f7b500;font-weight:700;\">[WARN] LOW-RES SPATIAL RESOLUTION GIVEN. CONVERTING FATAL ERRORS ON LOW-RES BOX CHECKS TO WARNINGS.</span></pre>"
      ],
      "text/plain": [
       "<IPython.core.display.HTML object>"
      ]
     },
     "metadata": {},
     "output_type": "display_data"
    },
    {
     "data": {
      "text/html": [
       "<pre style='margin:0;padding:0;font-family:monospace;white-space:pre-wrap;'><span style=\"color:inherit;\">[INFO] Resolution - Calculated values:</span></pre>"
      ],
      "text/plain": [
       "<IPython.core.display.HTML object>"
      ]
     },
     "metadata": {},
     "output_type": "display_data"
    },
    {
     "data": {
      "text/html": [
       "<pre style='margin:0;padding:0;font-family:monospace;white-space:pre-wrap;'><span style=\"color:inherit;font-weight:700;\">       High-resolution: ds_high: 5.0 m, dt_high: 0.25 s</span></pre>"
      ],
      "text/plain": [
       "<IPython.core.display.HTML object>"
      ]
     },
     "metadata": {},
     "output_type": "display_data"
    },
    {
     "data": {
      "text/html": [
       "<pre style='margin:0;padding:0;font-family:monospace;white-space:pre-wrap;'><span style=\"color:inherit;font-weight:700;\">       Low-resolution:  ds_low : 25 m, dt_low: 1.0 s</span></pre>"
      ],
      "text/plain": [
       "<IPython.core.display.HTML object>"
      ]
     },
     "metadata": {},
     "output_type": "display_data"
    },
    {
     "data": {
      "text/html": [
       "<pre style='margin:0;padding:0;font-family:monospace;white-space:pre-wrap;'><span style=\"color:inherit;\">[INFO] If the above values are too fine or manual tuning is warranted, specify them manually.</span></pre>"
      ],
      "text/plain": [
       "<IPython.core.display.HTML object>"
      ]
     },
     "metadata": {},
     "output_type": "display_data"
    },
    {
     "name": "stdout",
     "output_type": "stream",
     "text": [
      "       To do that, specify the values directly to `FFCaseCreation`, e.g.:\n",
      "       `dt_high = 0.5`; `ds_high = 10.0`; `dt_low  = 2.0`; `ds_low  = 50`; \n"
     ]
    }
   ],
   "source": [
    "dt_high = 0.25 # [s]\n",
    "dt_low  = 1.00 # [s]\n",
    "ds_low  = 25   # [m]\n",
    "# ----------- Initial setup\n",
    "ffcc = FFCaseCreation(wts=wts, vhub=vhub,\n",
    "                     dt_high=dt_high,\n",
    "                     dt_low=dt_low,   ds_low=ds_low,\n",
    "                     mod_wake=mod_wake,\n",
    "                     inflowType=inflowType)"
   ]
  },
  {
   "cell_type": "markdown",
   "id": "0fb39419-50b4-4871-851b-275bd091312c",
   "metadata": {},
   "source": [
    "This ends the illustration of the first example. Now we can move forward with the FAST.Farm setup using two options:\n",
    "\n",
    "1. Use directly the `ffcc` object:\n",
    "```\n",
    "# ----------- Low- and high-res boxes parameters\n",
    "# High-res boxes settings\n",
    "dt_high     = ffcc.dt_high\n",
    "ds_high     = ffcc.ds_high\n",
    "extent_high = ffcc.extent_high\n",
    "# Low-res boxes settings\n",
    "dt_low      = ffcc.dt_low\n",
    "ds_low      = ffcc.ds_low\n",
    "extent_low  = ffcc.extent_low\n",
    "```\n",
    "\n",
    "2. Manually add those values to their corresponding variables:\n",
    "```\n",
    "# ----------- Low- and high-res boxes parameters\n",
    "# High-res boxes settings\n",
    "dt_high     =  0.25               \n",
    "ds_high     =  5                 \n",
    "extent_high =  1.2               \n",
    "# Low-res boxes settings\n",
    "dt_low      = 1.0                  \n",
    "ds_low      = 25                 \n",
    "extent_low  = [1.5,2.5,1.5,1.5,2]\n",
    "\n",
    "```"
   ]
  },
  {
   "cell_type": "code",
   "execution_count": 43,
   "id": "0871edd7-9085-4ea3-b779-bd19f7a503d1",
   "metadata": {},
   "outputs": [
    {
     "name": "stdout",
     "output_type": "stream",
     "text": [
      "<FFCaseCreation object> with the following content:\n",
      "Requested parameters:\n",
      " - Case path: None\n",
      " - Wake model:              2 (1:Polar; 2:Curl; 3:Cartesian)\n",
      " - Number of TurbSim seeds: 1\n",
      " - End time:                1e-05 s\n",
      "Requested farm:\n",
      " - Number of turbines:  2\n",
      " - Diameter:            240 m\n",
      " - Hub height:          150 m\n",
      " - Max chord:           5 m\n",
      " - Max excitation freq: 1.667 Hz\n",
      " - Meandering constant: 1.9\n",
      "Requested sweeps:\n",
      " - Wind speeds at hub height (m/s): [8]\n",
      " - Shear exponent:                  [0]\n",
      " - TI (%):                          [10]\n",
      "Case details:\n",
      " - Number of conditions: 1\n",
      " - Number of cases for each condition: 1\n",
      "Turbulence boxes: TurbSim\n",
      "TurbSim turbulence boxes details:\n",
      "  Low-resolution domain: \n",
      "   - ds low: 1.0 m\n",
      "   - dt low: 1.0 s\n",
      "   - Extent of low-res box (in D): xmin = 3, xmax = 6, ymin = 3, ymax = 3, zmax = 2\n",
      "   Low-res boxes created: False .\n",
      "  High-resolution domain: \n",
      "   - ds high: 0.25 m\n",
      "   - dt high: 0.25 s\n",
      "   - Extent of high-res boxes: 1.2 D total\n",
      "  High-res boxes created: False.\n",
      "\n",
      "\n"
     ]
    }
   ],
   "source": [
    "# Note you can always print the object and get some information about the farm and the set of cases that will be setup:\n",
    "print(ffcc)"
   ]
  },
  {
   "cell_type": "markdown",
   "id": "6770dc37-cd9a-492e-a1bd-d1f7f520b6fb",
   "metadata": {},
   "source": [
    "# Example 2: `Ex2a_FASTFarm_TurbSim_driven.py`\n",
    "\n",
    "The example 2 for TurbSim has the same inputs as example 1 (the ones for the discretization), \n",
    "but additional inputs are now added to define the simulation setup. The new inputs are listed below:\n",
    "\n",
    "- **General parameters**\n",
    "    - `simPath` : folder (preferably new) where all the simulation files will be written\n",
    "    -  `ffbin` and `tsbin`: location of the FAST.Farm and TurbSim executables\n",
    "    - `templatePath`: existing folder, where the template FAST.Farm and OpenFAST files can be found.\n",
    "    - `templateFiles`: location of files within templatePath to be used, or absolute location of required files.\n",
    "        Note: some template files provided (like ED, SD, turbine fst) need to end with `.T` while  the actual filename inside `templatePath` is `*.T.<ext>` where `<ext>` is either `dat` or `fst`.\n",
    "\n",
    "- **Farm parameters** (same as above)\n",
    "\n",
    "- Inflow conditions and input files (same as above, but with more details):\n",
    "   - `shear`, `TIvalue`, `inflow_deg`, together with `vhub` define the inflow values.\n",
    "   - `tmax`: defines the maximum simulation time\n",
    "\n",
    "- **Discretization parameters** (`dt_high`, `dt_low`, etc): these are the parameters we determined in Example 1.\n",
    "\n",
    "\n"
   ]
  },
  {
   "cell_type": "markdown",
   "id": "014b74cf-3278-47c5-9d88-b935480642f2",
   "metadata": {},
   "source": [
    "### Pre-requisites to run the cells below:\n",
    " - A FAST.Farm Executable with version v4.*  (to be compatible with the input files provided)\n",
    " - A TurbSim Executable (any version>2 should do)\n",
    " - ROSCO libdiscon DLL or shared object with version 4.9"
   ]
  },
  {
   "cell_type": "code",
   "execution_count": 3,
   "id": "7ffd378e-8f44-4586-baca-69e49ddb1688",
   "metadata": {},
   "outputs": [
    {
     "data": {
      "text/html": [
       "<pre style='margin:0;padding:0;font-family:monospace;white-space:pre-wrap;'><span style=\"color:#388e3c;font-weight:700;\">[ OK ] File exists   : ./FAST.Farm_x64_v4.1.2.exe</span></pre>"
      ],
      "text/plain": [
       "<IPython.core.display.HTML object>"
      ]
     },
     "metadata": {},
     "output_type": "display_data"
    },
    {
     "data": {
      "text/html": [
       "<pre style='margin:0;padding:0;font-family:monospace;white-space:pre-wrap;'><span style=\"color:#388e3c;font-weight:700;\">[ OK ] File exists   : ./TurbSim_x64_v4.1.2.exe</span></pre>"
      ],
      "text/plain": [
       "<IPython.core.display.HTML object>"
      ]
     },
     "metadata": {},
     "output_type": "display_data"
    },
    {
     "data": {
      "text/html": [
       "<pre style='margin:0;padding:0;font-family:monospace;white-space:pre-wrap;'><span style=\"color:#388e3c;font-weight:700;\">[ OK ] File exists   : ./template</span></pre>"
      ],
      "text/plain": [
       "<IPython.core.display.HTML object>"
      ]
     },
     "metadata": {},
     "output_type": "display_data"
    }
   ],
   "source": [
    "# -----------------------------------------------------------------------------\n",
    "# ------------------------ General parameters ---------------------------------\n",
    "# -----------------------------------------------------------------------------\n",
    "simPath = 'ff_example_2a'            # folder (preferably new) where all the simulation files will be written\n",
    "ffbin = './FAST.Farm_x64_v4.1.2.exe' # relative or absolute path of FAST.Farm executable\n",
    "tsbin = './TurbSim_x64_v4.1.2.exe'   # relative or absolute path of TurbSim executable\n",
    "templatePath = './template'\n",
    "templateFiles = {\n",
    "    'FFfilename'              : 'Main.fstf',\n",
    "    'turbfilename'            : 'WT.T',\n",
    "    \"EDfilename\"              : 'ED.T',\n",
    "    'SrvDfilename'            : 'SvD.T',\n",
    "    'ADfilename'              : 'AD.dat',\n",
    "    'ADbladefilename'         : 'IEA-15-240-RWT_AeroDyn15_blade.dat',\n",
    "    'IWfilename'              : 'IW_WT.dat',\n",
    "    'EDbladefilename'         : 'IEA-15-240-RWT_ElastoDyn_blade.dat',\n",
    "    'EDtowerfilename'         : 'IEA-15-240-RWT-Monopile_ElastoDyn_tower.dat',\n",
    "    'controllerInputfilename' : 'DISCON_ROSCOv2.9.IN',\n",
    "    'libdisconfilepath'       : './template/libdiscon_rosco_v2.9.0.dll',\n",
    "    'turbsimLowfilepath'      : './SampleFiles/template_Low_InflowXX_SeedY.inp',\n",
    "    'turbsimHighfilepath'     : './SampleFiles/template_HighT1_InflowXX_SeedY.inp'\n",
    "}\n",
    "check_files_exist(ffbin, tsbin, templatePath)"
   ]
  },
  {
   "cell_type": "code",
   "execution_count": 4,
   "id": "10b77c0c-d734-4144-ae72-0d66a27ce0ed",
   "metadata": {},
   "outputs": [],
   "source": [
    "# -----------------------------------------------------------------------------\n",
    "# --------------------------- Farm parameters ---------------------------------\n",
    "# -----------------------------------------------------------------------------\n",
    "# ----------- General turbine parameters\n",
    "cmax     = 5      # Maximum blade chord (m)\n",
    "fmax     = 10/6   # Maximum excitation frequency (Hz)\n",
    "Cmeander = 1.9    # Meandering constant (-)\n",
    "D = 240           # Rotor diameter (m)\n",
    "zhub = 150        # Hub height (m)\n",
    "# ----------- Wind farm\n",
    "# The wts dictionary holds information of each wind turbine. The allowed entries\n",
    "# are: x, y, z, D, zhub, cmax, fmax, Cmeander, and phi_deg. The phi_deg is the\n",
    "# only entry that is optional and is related to floating platform heading angle,\n",
    "# given in degrees. The angle phi_deg is not illustrated on the example below.\n",
    "wts = {\n",
    "    0 :{'x':  0.0, 'y':    0,  'z':0.0, 'D':D, 'zhub':zhub, 'cmax':cmax, 'fmax':fmax, 'Cmeander':Cmeander, 'name':'T1'},\n",
    "    1 :{'x':  5*D, 'y':   D/2, 'z':0.0, 'D':D, 'zhub':zhub, 'cmax':cmax, 'fmax':fmax, 'Cmeander':Cmeander, 'name':'T2'},\n",
    "}"
   ]
  },
  {
   "cell_type": "code",
   "execution_count": 51,
   "id": "6e93213c-c15d-4c6e-ad4b-c16ba538081b",
   "metadata": {},
   "outputs": [],
   "source": [
    "# -----------------------------------------------------------------------------\n",
    "# ------------------- Inflow conditions and input files -----------------------\n",
    "# -----------------------------------------------------------------------------\n",
    "# ----------- Additional variables\n",
    "tmax = 50       # Total simulation time\n",
    "zbot = 1        # Bottom of your domain\n",
    "mod_wake = 2    # Wake model. 1: Polar, 2: Curled, 3: Cartesian\n",
    "# ----------- Inflow parameters\n",
    "inflowType = 'TS'\n",
    "# ----------- Desired sweeps\n",
    "vhub       = [8]    #\n",
    "shear      = [0.1]\n",
    "TIvalue    = [10]\n",
    "inflow_deg = [0]"
   ]
  },
  {
   "cell_type": "code",
   "execution_count": null,
   "id": "e0f0e67d-e97e-4d12-9c5f-cdad22f9e7c3",
   "metadata": {},
   "outputs": [],
   "source": [
    "# -----------------------------------------------------------------------------\n",
    "# ---------------------- Discretization parameters ----------------------------\n",
    "# -----------------------------------------------------------------------------\n",
    "# ----------- Low- and high-res boxes parameters\n",
    "# High-res boxes settings\n",
    "dt_high     =  0.25               # sampling time of high-res files [s]\n",
    "ds_high     =  5                  # dx, dy, dz of high-res files [m]\n",
    "extent_high =  1.2                # extent in y and x for each turbine, in D\n",
    "# Low-res boxes settings\n",
    "dt_low      = 1.0                 # sampling time of low-res files [s]\n",
    "ds_low      = 25                  # dx, dy, dz of low-res files [m]\n",
    "extent_low  = [1.5,2.5,1.5,1.5,2] # extent in [xmin,xmax,ymin,ymax,zmax], in D"
   ]
  },
  {
   "cell_type": "code",
   "execution_count": 45,
   "id": "448b7001-60fd-4234-9d72-939bec7415a9",
   "metadata": {},
   "outputs": [
    {
     "ename": "SyntaxError",
     "evalue": "invalid syntax (3810621900.py, line 9)",
     "output_type": "error",
     "traceback": [
      "  \u001b[36mCell\u001b[39m\u001b[36m \u001b[39m\u001b[32mIn[45]\u001b[39m\u001b[32m, line 9\u001b[39m\n\u001b[31m    \u001b[39m\u001b[31mffbin=ffbin, mod_wake=mod_wake, ,\u001b[39m\n                                    ^\n\u001b[31mSyntaxError\u001b[39m\u001b[31m:\u001b[39m invalid syntax\n"
     ]
    }
   ],
   "source": [
    "# -----------------------------------------------------------------------------\n",
    "# -------------------- FAST.Farm initial setup --------------------------------\n",
    "# -----------------------------------------------------------------------------\n",
    "# ----------- Initial setup\n",
    "os.chdir(notepath)\n",
    "ffcase = FFCaseCreation(path, wts, tmax, zbot, vhub, shear, TIvalue, inflow_deg,\n",
    "                        dt_high=dt_high, ds_high=ds_high, extent_high=extent_high,\n",
    "                        dt_low=dt_low,   ds_low=ds_low,   extent_low=extent_low,\n",
    "                        ffbin=ffbin, mod_wake=mod_wake,\n",
    "                        nSeeds=nSeeds, tsbin=tsbin, inflowType=inflowType,\n",
    "                        refTurb_rot=refTurb_rot, verbose=1)\n",
    "\n",
    "# ----------- Perform auxiliary steps in preparing the case\n",
    "ffcase.setTemplateFilename(templatePath, templateFiles)\n",
    "ffcase.getDomainParameters()\n",
    "ffcase.copyTurbineFilesForEachCase()"
   ]
  },
  {
   "cell_type": "markdown",
   "id": "2accd628-6fdd-4fce-9714-1ea7f9ce0dc3",
   "metadata": {},
   "source": [
    "There are a few things the user can look at to check the setup. One of them, as mentioned is to print the object. Others are to print the datasets that hold the information for all the cases:"
   ]
  },
  {
   "cell_type": "code",
   "execution_count": 5,
   "id": "e53dbe32-f045-4cc0-9633-510c9e008c58",
   "metadata": {},
   "outputs": [
    {
     "data": {
      "text/html": [
       "<div><svg style=\"position: absolute; width: 0; height: 0; overflow: hidden\">\n",
       "<defs>\n",
       "<symbol id=\"icon-database\" viewBox=\"0 0 32 32\">\n",
       "<path d=\"M16 0c-8.837 0-16 2.239-16 5v4c0 2.761 7.163 5 16 5s16-2.239 16-5v-4c0-2.761-7.163-5-16-5z\"></path>\n",
       "<path d=\"M16 17c-8.837 0-16-2.239-16-5v6c0 2.761 7.163 5 16 5s16-2.239 16-5v-6c0 2.761-7.163 5-16 5z\"></path>\n",
       "<path d=\"M16 26c-8.837 0-16-2.239-16-5v6c0 2.761 7.163 5 16 5s16-2.239 16-5v-6c0 2.761-7.163 5-16 5z\"></path>\n",
       "</symbol>\n",
       "<symbol id=\"icon-file-text2\" viewBox=\"0 0 32 32\">\n",
       "<path d=\"M28.681 7.159c-0.694-0.947-1.662-2.053-2.724-3.116s-2.169-2.030-3.116-2.724c-1.612-1.182-2.393-1.319-2.841-1.319h-15.5c-1.378 0-2.5 1.121-2.5 2.5v27c0 1.378 1.122 2.5 2.5 2.5h23c1.378 0 2.5-1.122 2.5-2.5v-19.5c0-0.448-0.137-1.23-1.319-2.841zM24.543 5.457c0.959 0.959 1.712 1.825 2.268 2.543h-4.811v-4.811c0.718 0.556 1.584 1.309 2.543 2.268zM28 29.5c0 0.271-0.229 0.5-0.5 0.5h-23c-0.271 0-0.5-0.229-0.5-0.5v-27c0-0.271 0.229-0.5 0.5-0.5 0 0 15.499-0 15.5 0v7c0 0.552 0.448 1 1 1h7v19.5z\"></path>\n",
       "<path d=\"M23 26h-14c-0.552 0-1-0.448-1-1s0.448-1 1-1h14c0.552 0 1 0.448 1 1s-0.448 1-1 1z\"></path>\n",
       "<path d=\"M23 22h-14c-0.552 0-1-0.448-1-1s0.448-1 1-1h14c0.552 0 1 0.448 1 1s-0.448 1-1 1z\"></path>\n",
       "<path d=\"M23 18h-14c-0.552 0-1-0.448-1-1s0.448-1 1-1h14c0.552 0 1 0.448 1 1s-0.448 1-1 1z\"></path>\n",
       "</symbol>\n",
       "</defs>\n",
       "</svg>\n",
       "<style>/* CSS stylesheet for displaying xarray objects in jupyterlab.\n",
       " *\n",
       " */\n",
       "\n",
       ":root {\n",
       "  --xr-font-color0: var(\n",
       "    --jp-content-font-color0,\n",
       "    var(--pst-color-text-base rgba(0, 0, 0, 1))\n",
       "  );\n",
       "  --xr-font-color2: var(\n",
       "    --jp-content-font-color2,\n",
       "    var(--pst-color-text-base, rgba(0, 0, 0, 0.54))\n",
       "  );\n",
       "  --xr-font-color3: var(\n",
       "    --jp-content-font-color3,\n",
       "    var(--pst-color-text-base, rgba(0, 0, 0, 0.38))\n",
       "  );\n",
       "  --xr-border-color: var(\n",
       "    --jp-border-color2,\n",
       "    hsl(from var(--pst-color-on-background, white) h s calc(l - 10))\n",
       "  );\n",
       "  --xr-disabled-color: var(\n",
       "    --jp-layout-color3,\n",
       "    hsl(from var(--pst-color-on-background, white) h s calc(l - 40))\n",
       "  );\n",
       "  --xr-background-color: var(\n",
       "    --jp-layout-color0,\n",
       "    var(--pst-color-on-background, white)\n",
       "  );\n",
       "  --xr-background-color-row-even: var(\n",
       "    --jp-layout-color1,\n",
       "    hsl(from var(--pst-color-on-background, white) h s calc(l - 5))\n",
       "  );\n",
       "  --xr-background-color-row-odd: var(\n",
       "    --jp-layout-color2,\n",
       "    hsl(from var(--pst-color-on-background, white) h s calc(l - 15))\n",
       "  );\n",
       "}\n",
       "\n",
       "html[theme=\"dark\"],\n",
       "html[data-theme=\"dark\"],\n",
       "body[data-theme=\"dark\"],\n",
       "body.vscode-dark {\n",
       "  --xr-font-color0: var(\n",
       "    --jp-content-font-color0,\n",
       "    var(--pst-color-text-base, rgba(255, 255, 255, 1))\n",
       "  );\n",
       "  --xr-font-color2: var(\n",
       "    --jp-content-font-color2,\n",
       "    var(--pst-color-text-base, rgba(255, 255, 255, 0.54))\n",
       "  );\n",
       "  --xr-font-color3: var(\n",
       "    --jp-content-font-color3,\n",
       "    var(--pst-color-text-base, rgba(255, 255, 255, 0.38))\n",
       "  );\n",
       "  --xr-border-color: var(\n",
       "    --jp-border-color2,\n",
       "    hsl(from var(--pst-color-on-background, #111111) h s calc(l + 10))\n",
       "  );\n",
       "  --xr-disabled-color: var(\n",
       "    --jp-layout-color3,\n",
       "    hsl(from var(--pst-color-on-background, #111111) h s calc(l + 40))\n",
       "  );\n",
       "  --xr-background-color: var(\n",
       "    --jp-layout-color0,\n",
       "    var(--pst-color-on-background, #111111)\n",
       "  );\n",
       "  --xr-background-color-row-even: var(\n",
       "    --jp-layout-color1,\n",
       "    hsl(from var(--pst-color-on-background, #111111) h s calc(l + 5))\n",
       "  );\n",
       "  --xr-background-color-row-odd: var(\n",
       "    --jp-layout-color2,\n",
       "    hsl(from var(--pst-color-on-background, #111111) h s calc(l + 15))\n",
       "  );\n",
       "}\n",
       "\n",
       ".xr-wrap {\n",
       "  display: block !important;\n",
       "  min-width: 300px;\n",
       "  max-width: 700px;\n",
       "}\n",
       "\n",
       ".xr-text-repr-fallback {\n",
       "  /* fallback to plain text repr when CSS is not injected (untrusted notebook) */\n",
       "  display: none;\n",
       "}\n",
       "\n",
       ".xr-header {\n",
       "  padding-top: 6px;\n",
       "  padding-bottom: 6px;\n",
       "  margin-bottom: 4px;\n",
       "  border-bottom: solid 1px var(--xr-border-color);\n",
       "}\n",
       "\n",
       ".xr-header > div,\n",
       ".xr-header > ul {\n",
       "  display: inline;\n",
       "  margin-top: 0;\n",
       "  margin-bottom: 0;\n",
       "}\n",
       "\n",
       ".xr-obj-type,\n",
       ".xr-array-name {\n",
       "  margin-left: 2px;\n",
       "  margin-right: 10px;\n",
       "}\n",
       "\n",
       ".xr-obj-type {\n",
       "  color: var(--xr-font-color2);\n",
       "}\n",
       "\n",
       ".xr-sections {\n",
       "  padding-left: 0 !important;\n",
       "  display: grid;\n",
       "  grid-template-columns: 150px auto auto 1fr 0 20px 0 20px;\n",
       "}\n",
       "\n",
       ".xr-section-item {\n",
       "  display: contents;\n",
       "}\n",
       "\n",
       ".xr-section-item input {\n",
       "  display: inline-block;\n",
       "  opacity: 0;\n",
       "  height: 0;\n",
       "}\n",
       "\n",
       ".xr-section-item input + label {\n",
       "  color: var(--xr-disabled-color);\n",
       "  border: 2px solid transparent !important;\n",
       "}\n",
       "\n",
       ".xr-section-item input:enabled + label {\n",
       "  cursor: pointer;\n",
       "  color: var(--xr-font-color2);\n",
       "}\n",
       "\n",
       ".xr-section-item input:focus + label {\n",
       "  border: 2px solid var(--xr-font-color0) !important;\n",
       "}\n",
       "\n",
       ".xr-section-item input:enabled + label:hover {\n",
       "  color: var(--xr-font-color0);\n",
       "}\n",
       "\n",
       ".xr-section-summary {\n",
       "  grid-column: 1;\n",
       "  color: var(--xr-font-color2);\n",
       "  font-weight: 500;\n",
       "}\n",
       "\n",
       ".xr-section-summary > span {\n",
       "  display: inline-block;\n",
       "  padding-left: 0.5em;\n",
       "}\n",
       "\n",
       ".xr-section-summary-in:disabled + label {\n",
       "  color: var(--xr-font-color2);\n",
       "}\n",
       "\n",
       ".xr-section-summary-in + label:before {\n",
       "  display: inline-block;\n",
       "  content: \"►\";\n",
       "  font-size: 11px;\n",
       "  width: 15px;\n",
       "  text-align: center;\n",
       "}\n",
       "\n",
       ".xr-section-summary-in:disabled + label:before {\n",
       "  color: var(--xr-disabled-color);\n",
       "}\n",
       "\n",
       ".xr-section-summary-in:checked + label:before {\n",
       "  content: \"▼\";\n",
       "}\n",
       "\n",
       ".xr-section-summary-in:checked + label > span {\n",
       "  display: none;\n",
       "}\n",
       "\n",
       ".xr-section-summary,\n",
       ".xr-section-inline-details {\n",
       "  padding-top: 4px;\n",
       "  padding-bottom: 4px;\n",
       "}\n",
       "\n",
       ".xr-section-inline-details {\n",
       "  grid-column: 2 / -1;\n",
       "}\n",
       "\n",
       ".xr-section-details {\n",
       "  display: none;\n",
       "  grid-column: 1 / -1;\n",
       "  margin-bottom: 5px;\n",
       "}\n",
       "\n",
       ".xr-section-summary-in:checked ~ .xr-section-details {\n",
       "  display: contents;\n",
       "}\n",
       "\n",
       ".xr-array-wrap {\n",
       "  grid-column: 1 / -1;\n",
       "  display: grid;\n",
       "  grid-template-columns: 20px auto;\n",
       "}\n",
       "\n",
       ".xr-array-wrap > label {\n",
       "  grid-column: 1;\n",
       "  vertical-align: top;\n",
       "}\n",
       "\n",
       ".xr-preview {\n",
       "  color: var(--xr-font-color3);\n",
       "}\n",
       "\n",
       ".xr-array-preview,\n",
       ".xr-array-data {\n",
       "  padding: 0 5px !important;\n",
       "  grid-column: 2;\n",
       "}\n",
       "\n",
       ".xr-array-data,\n",
       ".xr-array-in:checked ~ .xr-array-preview {\n",
       "  display: none;\n",
       "}\n",
       "\n",
       ".xr-array-in:checked ~ .xr-array-data,\n",
       ".xr-array-preview {\n",
       "  display: inline-block;\n",
       "}\n",
       "\n",
       ".xr-dim-list {\n",
       "  display: inline-block !important;\n",
       "  list-style: none;\n",
       "  padding: 0 !important;\n",
       "  margin: 0;\n",
       "}\n",
       "\n",
       ".xr-dim-list li {\n",
       "  display: inline-block;\n",
       "  padding: 0;\n",
       "  margin: 0;\n",
       "}\n",
       "\n",
       ".xr-dim-list:before {\n",
       "  content: \"(\";\n",
       "}\n",
       "\n",
       ".xr-dim-list:after {\n",
       "  content: \")\";\n",
       "}\n",
       "\n",
       ".xr-dim-list li:not(:last-child):after {\n",
       "  content: \",\";\n",
       "  padding-right: 5px;\n",
       "}\n",
       "\n",
       ".xr-has-index {\n",
       "  font-weight: bold;\n",
       "}\n",
       "\n",
       ".xr-var-list,\n",
       ".xr-var-item {\n",
       "  display: contents;\n",
       "}\n",
       "\n",
       ".xr-var-item > div,\n",
       ".xr-var-item label,\n",
       ".xr-var-item > .xr-var-name span {\n",
       "  background-color: var(--xr-background-color-row-even);\n",
       "  border-color: var(--xr-background-color-row-odd);\n",
       "  margin-bottom: 0;\n",
       "  padding-top: 2px;\n",
       "}\n",
       "\n",
       ".xr-var-item > .xr-var-name:hover span {\n",
       "  padding-right: 5px;\n",
       "}\n",
       "\n",
       ".xr-var-list > li:nth-child(odd) > div,\n",
       ".xr-var-list > li:nth-child(odd) > label,\n",
       ".xr-var-list > li:nth-child(odd) > .xr-var-name span {\n",
       "  background-color: var(--xr-background-color-row-odd);\n",
       "  border-color: var(--xr-background-color-row-even);\n",
       "}\n",
       "\n",
       ".xr-var-name {\n",
       "  grid-column: 1;\n",
       "}\n",
       "\n",
       ".xr-var-dims {\n",
       "  grid-column: 2;\n",
       "}\n",
       "\n",
       ".xr-var-dtype {\n",
       "  grid-column: 3;\n",
       "  text-align: right;\n",
       "  color: var(--xr-font-color2);\n",
       "}\n",
       "\n",
       ".xr-var-preview {\n",
       "  grid-column: 4;\n",
       "}\n",
       "\n",
       ".xr-index-preview {\n",
       "  grid-column: 2 / 5;\n",
       "  color: var(--xr-font-color2);\n",
       "}\n",
       "\n",
       ".xr-var-name,\n",
       ".xr-var-dims,\n",
       ".xr-var-dtype,\n",
       ".xr-preview,\n",
       ".xr-attrs dt {\n",
       "  white-space: nowrap;\n",
       "  overflow: hidden;\n",
       "  text-overflow: ellipsis;\n",
       "  padding-right: 10px;\n",
       "}\n",
       "\n",
       ".xr-var-name:hover,\n",
       ".xr-var-dims:hover,\n",
       ".xr-var-dtype:hover,\n",
       ".xr-attrs dt:hover {\n",
       "  overflow: visible;\n",
       "  width: auto;\n",
       "  z-index: 1;\n",
       "}\n",
       "\n",
       ".xr-var-attrs,\n",
       ".xr-var-data,\n",
       ".xr-index-data {\n",
       "  display: none;\n",
       "  border-top: 2px dotted var(--xr-background-color);\n",
       "  padding-bottom: 20px !important;\n",
       "  padding-top: 10px !important;\n",
       "}\n",
       "\n",
       ".xr-var-attrs-in + label,\n",
       ".xr-var-data-in + label,\n",
       ".xr-index-data-in + label {\n",
       "  padding: 0 1px;\n",
       "}\n",
       "\n",
       ".xr-var-attrs-in:checked ~ .xr-var-attrs,\n",
       ".xr-var-data-in:checked ~ .xr-var-data,\n",
       ".xr-index-data-in:checked ~ .xr-index-data {\n",
       "  display: block;\n",
       "}\n",
       "\n",
       ".xr-var-data > table {\n",
       "  float: right;\n",
       "}\n",
       "\n",
       ".xr-var-data > pre,\n",
       ".xr-index-data > pre,\n",
       ".xr-var-data > table > tbody > tr {\n",
       "  background-color: transparent !important;\n",
       "}\n",
       "\n",
       ".xr-var-name span,\n",
       ".xr-var-data,\n",
       ".xr-index-name div,\n",
       ".xr-index-data,\n",
       ".xr-attrs {\n",
       "  padding-left: 25px !important;\n",
       "}\n",
       "\n",
       ".xr-attrs,\n",
       ".xr-var-attrs,\n",
       ".xr-var-data,\n",
       ".xr-index-data {\n",
       "  grid-column: 1 / -1;\n",
       "}\n",
       "\n",
       "dl.xr-attrs {\n",
       "  padding: 0;\n",
       "  margin: 0;\n",
       "  display: grid;\n",
       "  grid-template-columns: 125px auto;\n",
       "}\n",
       "\n",
       ".xr-attrs dt,\n",
       ".xr-attrs dd {\n",
       "  padding: 0;\n",
       "  margin: 0;\n",
       "  float: left;\n",
       "  padding-right: 10px;\n",
       "  width: auto;\n",
       "}\n",
       "\n",
       ".xr-attrs dt {\n",
       "  font-weight: normal;\n",
       "  grid-column: 1;\n",
       "}\n",
       "\n",
       ".xr-attrs dt:hover span {\n",
       "  display: inline-block;\n",
       "  background: var(--xr-background-color);\n",
       "  padding-right: 10px;\n",
       "}\n",
       "\n",
       ".xr-attrs dd {\n",
       "  grid-column: 2;\n",
       "  white-space: pre-wrap;\n",
       "  word-break: break-all;\n",
       "}\n",
       "\n",
       ".xr-icon-database,\n",
       ".xr-icon-file-text2,\n",
       ".xr-no-icon {\n",
       "  display: inline-block;\n",
       "  vertical-align: middle;\n",
       "  width: 1em;\n",
       "  height: 1.5em !important;\n",
       "  stroke-width: 0;\n",
       "  stroke: currentColor;\n",
       "  fill: currentColor;\n",
       "}\n",
       "\n",
       ".xr-var-attrs-in:checked + label > .xr-icon-file-text2,\n",
       ".xr-var-data-in:checked + label > .xr-icon-database,\n",
       ".xr-index-data-in:checked + label > .xr-icon-database {\n",
       "  color: var(--xr-font-color0);\n",
       "  filter: drop-shadow(1px 1px 5px var(--xr-font-color2));\n",
       "  stroke-width: 0.8px;\n",
       "}\n",
       "</style><pre class='xr-text-repr-fallback'>&lt;xarray.Dataset&gt; Size: 217B\n",
       "Dimensions:          (case: 1, turbine: 2)\n",
       "Coordinates:\n",
       "  * case             (case) int64 8B 0\n",
       "  * turbine          (turbine) int64 16B 0 1\n",
       "Data variables: (12/15)\n",
       "    Tx               (case, turbine) float64 16B 500.0 1.1e+03\n",
       "    Ty               (case, turbine) float64 16B 480.0 480.0\n",
       "    Tz               (case, turbine) float64 16B 0.0 0.0\n",
       "    phi              (case, turbine) float64 16B 0.0 0.0\n",
       "    D                (case, turbine) int64 16B 240 240\n",
       "    zhub             (case, turbine) int64 16B 150 150\n",
       "    ...               ...\n",
       "    EDmodel          (case, turbine) object 16B &#x27;FED&#x27; &#x27;FED&#x27;\n",
       "    ADmodel          (case, turbine) object 16B &#x27;ADyn&#x27; &#x27;ADyn&#x27;\n",
       "    nFulllElastoDyn  (case) int64 8B 2\n",
       "    nFullAeroDyn     (case) int64 8B 2\n",
       "    yawmis           (case, turbine) float64 16B 0.0 0.0\n",
       "    misalignment     (case) bool 1B False</pre><div class='xr-wrap' style='display:none'><div class='xr-header'><div class='xr-obj-type'>xarray.Dataset</div></div><ul class='xr-sections'><li class='xr-section-item'><input id='section-ad00d4b7-3eac-41ee-ab8b-c6e2d351367b' class='xr-section-summary-in' type='checkbox' disabled ><label for='section-ad00d4b7-3eac-41ee-ab8b-c6e2d351367b' class='xr-section-summary'  title='Expand/collapse section'>Dimensions:</label><div class='xr-section-inline-details'><ul class='xr-dim-list'><li><span class='xr-has-index'>case</span>: 1</li><li><span class='xr-has-index'>turbine</span>: 2</li></ul></div><div class='xr-section-details'></div></li><li class='xr-section-item'><input id='section-225b5f2a-1f6e-4b94-a59e-963839f9f6bc' class='xr-section-summary-in' type='checkbox'  checked><label for='section-225b5f2a-1f6e-4b94-a59e-963839f9f6bc' class='xr-section-summary' >Coordinates: <span>(2)</span></label><div class='xr-section-inline-details'></div><div class='xr-section-details'><ul class='xr-var-list'><li class='xr-var-item'><div class='xr-var-name'><span class='xr-has-index'>case</span></div><div class='xr-var-dims'>(case)</div><div class='xr-var-dtype'>int64</div><div class='xr-var-preview xr-preview'>0</div><input id='attrs-390ecc32-8611-4227-a1b9-e4b8d6edb97c' class='xr-var-attrs-in' type='checkbox' disabled><label for='attrs-390ecc32-8611-4227-a1b9-e4b8d6edb97c' title='Show/Hide attributes'><svg class='icon xr-icon-file-text2'><use xlink:href='#icon-file-text2'></use></svg></label><input id='data-c21daf20-951e-4db8-9dc2-2415ba20c7fb' class='xr-var-data-in' type='checkbox'><label for='data-c21daf20-951e-4db8-9dc2-2415ba20c7fb' title='Show/Hide data repr'><svg class='icon xr-icon-database'><use xlink:href='#icon-database'></use></svg></label><div class='xr-var-attrs'><dl class='xr-attrs'></dl></div><div class='xr-var-data'><pre>array([0])</pre></div></li><li class='xr-var-item'><div class='xr-var-name'><span class='xr-has-index'>turbine</span></div><div class='xr-var-dims'>(turbine)</div><div class='xr-var-dtype'>int64</div><div class='xr-var-preview xr-preview'>0 1</div><input id='attrs-8bec5f95-d650-4054-8538-612d0234416b' class='xr-var-attrs-in' type='checkbox' disabled><label for='attrs-8bec5f95-d650-4054-8538-612d0234416b' title='Show/Hide attributes'><svg class='icon xr-icon-file-text2'><use xlink:href='#icon-file-text2'></use></svg></label><input id='data-b10247a4-2d32-42b1-9fc3-202aa4415ed6' class='xr-var-data-in' type='checkbox'><label for='data-b10247a4-2d32-42b1-9fc3-202aa4415ed6' title='Show/Hide data repr'><svg class='icon xr-icon-database'><use xlink:href='#icon-database'></use></svg></label><div class='xr-var-attrs'><dl class='xr-attrs'></dl></div><div class='xr-var-data'><pre>array([0, 1])</pre></div></li></ul></div></li><li class='xr-section-item'><input id='section-7dee2a6a-ec48-4346-9d0b-aadbe4d54440' class='xr-section-summary-in' type='checkbox'  ><label for='section-7dee2a6a-ec48-4346-9d0b-aadbe4d54440' class='xr-section-summary' >Data variables: <span>(15)</span></label><div class='xr-section-inline-details'></div><div class='xr-section-details'><ul class='xr-var-list'><li class='xr-var-item'><div class='xr-var-name'><span>Tx</span></div><div class='xr-var-dims'>(case, turbine)</div><div class='xr-var-dtype'>float64</div><div class='xr-var-preview xr-preview'>500.0 1.1e+03</div><input id='attrs-a3b477a3-4f3d-4ec7-973e-2f198791e55c' class='xr-var-attrs-in' type='checkbox' disabled><label for='attrs-a3b477a3-4f3d-4ec7-973e-2f198791e55c' title='Show/Hide attributes'><svg class='icon xr-icon-file-text2'><use xlink:href='#icon-file-text2'></use></svg></label><input id='data-8b7ab290-3a46-4013-ad54-24daa5c16111' class='xr-var-data-in' type='checkbox'><label for='data-8b7ab290-3a46-4013-ad54-24daa5c16111' title='Show/Hide data repr'><svg class='icon xr-icon-database'><use xlink:href='#icon-database'></use></svg></label><div class='xr-var-attrs'><dl class='xr-attrs'></dl></div><div class='xr-var-data'><pre>array([[ 500., 1100.]])</pre></div></li><li class='xr-var-item'><div class='xr-var-name'><span>Ty</span></div><div class='xr-var-dims'>(case, turbine)</div><div class='xr-var-dtype'>float64</div><div class='xr-var-preview xr-preview'>480.0 480.0</div><input id='attrs-9badfddd-1909-4ad0-b8f0-df8766accc88' class='xr-var-attrs-in' type='checkbox' disabled><label for='attrs-9badfddd-1909-4ad0-b8f0-df8766accc88' title='Show/Hide attributes'><svg class='icon xr-icon-file-text2'><use xlink:href='#icon-file-text2'></use></svg></label><input id='data-891e3bd6-73a8-4b16-bd68-6e29677640cb' class='xr-var-data-in' type='checkbox'><label for='data-891e3bd6-73a8-4b16-bd68-6e29677640cb' title='Show/Hide data repr'><svg class='icon xr-icon-database'><use xlink:href='#icon-database'></use></svg></label><div class='xr-var-attrs'><dl class='xr-attrs'></dl></div><div class='xr-var-data'><pre>array([[480., 480.]])</pre></div></li><li class='xr-var-item'><div class='xr-var-name'><span>Tz</span></div><div class='xr-var-dims'>(case, turbine)</div><div class='xr-var-dtype'>float64</div><div class='xr-var-preview xr-preview'>0.0 0.0</div><input id='attrs-b67a6e50-311f-4d95-b3c0-fc2721955256' class='xr-var-attrs-in' type='checkbox' disabled><label for='attrs-b67a6e50-311f-4d95-b3c0-fc2721955256' title='Show/Hide attributes'><svg class='icon xr-icon-file-text2'><use xlink:href='#icon-file-text2'></use></svg></label><input id='data-5e8b7eda-f5fe-4ef2-b194-637fc4bc59b8' class='xr-var-data-in' type='checkbox'><label for='data-5e8b7eda-f5fe-4ef2-b194-637fc4bc59b8' title='Show/Hide data repr'><svg class='icon xr-icon-database'><use xlink:href='#icon-database'></use></svg></label><div class='xr-var-attrs'><dl class='xr-attrs'></dl></div><div class='xr-var-data'><pre>array([[0., 0.]])</pre></div></li><li class='xr-var-item'><div class='xr-var-name'><span>phi</span></div><div class='xr-var-dims'>(case, turbine)</div><div class='xr-var-dtype'>float64</div><div class='xr-var-preview xr-preview'>0.0 0.0</div><input id='attrs-a0aa3276-d9d6-4ff8-8ef8-241ecd1e825c' class='xr-var-attrs-in' type='checkbox' disabled><label for='attrs-a0aa3276-d9d6-4ff8-8ef8-241ecd1e825c' title='Show/Hide attributes'><svg class='icon xr-icon-file-text2'><use xlink:href='#icon-file-text2'></use></svg></label><input id='data-f26f6914-60e1-4434-a38b-3d7387442dd5' class='xr-var-data-in' type='checkbox'><label for='data-f26f6914-60e1-4434-a38b-3d7387442dd5' title='Show/Hide data repr'><svg class='icon xr-icon-database'><use xlink:href='#icon-database'></use></svg></label><div class='xr-var-attrs'><dl class='xr-attrs'></dl></div><div class='xr-var-data'><pre>array([[0., 0.]])</pre></div></li><li class='xr-var-item'><div class='xr-var-name'><span>D</span></div><div class='xr-var-dims'>(case, turbine)</div><div class='xr-var-dtype'>int64</div><div class='xr-var-preview xr-preview'>240 240</div><input id='attrs-5afd0f32-30b0-4586-9193-82706d5da5f3' class='xr-var-attrs-in' type='checkbox' disabled><label for='attrs-5afd0f32-30b0-4586-9193-82706d5da5f3' title='Show/Hide attributes'><svg class='icon xr-icon-file-text2'><use xlink:href='#icon-file-text2'></use></svg></label><input id='data-5bd59e19-1d36-4c7d-bd33-b4dd30c9223d' class='xr-var-data-in' type='checkbox'><label for='data-5bd59e19-1d36-4c7d-bd33-b4dd30c9223d' title='Show/Hide data repr'><svg class='icon xr-icon-database'><use xlink:href='#icon-database'></use></svg></label><div class='xr-var-attrs'><dl class='xr-attrs'></dl></div><div class='xr-var-data'><pre>array([[240, 240]])</pre></div></li><li class='xr-var-item'><div class='xr-var-name'><span>zhub</span></div><div class='xr-var-dims'>(case, turbine)</div><div class='xr-var-dtype'>int64</div><div class='xr-var-preview xr-preview'>150 150</div><input id='attrs-63bf8126-0aee-40d1-b617-0dcb93404704' class='xr-var-attrs-in' type='checkbox' disabled><label for='attrs-63bf8126-0aee-40d1-b617-0dcb93404704' title='Show/Hide attributes'><svg class='icon xr-icon-file-text2'><use xlink:href='#icon-file-text2'></use></svg></label><input id='data-7f4b2ce8-097c-4fca-8b5a-0036b9f171ce' class='xr-var-data-in' type='checkbox'><label for='data-7f4b2ce8-097c-4fca-8b5a-0036b9f171ce' title='Show/Hide data repr'><svg class='icon xr-icon-database'><use xlink:href='#icon-database'></use></svg></label><div class='xr-var-attrs'><dl class='xr-attrs'></dl></div><div class='xr-var-data'><pre>array([[150, 150]])</pre></div></li><li class='xr-var-item'><div class='xr-var-name'><span>yaw</span></div><div class='xr-var-dims'>(case, turbine)</div><div class='xr-var-dtype'>float64</div><div class='xr-var-preview xr-preview'>0.0 0.0</div><input id='attrs-7a2d4575-b626-4a7c-b44d-4166f8b7443f' class='xr-var-attrs-in' type='checkbox' disabled><label for='attrs-7a2d4575-b626-4a7c-b44d-4166f8b7443f' title='Show/Hide attributes'><svg class='icon xr-icon-file-text2'><use xlink:href='#icon-file-text2'></use></svg></label><input id='data-7bb08364-a64f-4990-8250-2c0b41efe270' class='xr-var-data-in' type='checkbox'><label for='data-7bb08364-a64f-4990-8250-2c0b41efe270' title='Show/Hide data repr'><svg class='icon xr-icon-database'><use xlink:href='#icon-database'></use></svg></label><div class='xr-var-attrs'><dl class='xr-attrs'></dl></div><div class='xr-var-data'><pre>array([[0., 0.]])</pre></div></li><li class='xr-var-item'><div class='xr-var-name'><span>inflow_deg</span></div><div class='xr-var-dims'>(case)</div><div class='xr-var-dtype'>int64</div><div class='xr-var-preview xr-preview'>0</div><input id='attrs-b28ea539-8a58-4b0a-9ca3-447fb640eb04' class='xr-var-attrs-in' type='checkbox' disabled><label for='attrs-b28ea539-8a58-4b0a-9ca3-447fb640eb04' title='Show/Hide attributes'><svg class='icon xr-icon-file-text2'><use xlink:href='#icon-file-text2'></use></svg></label><input id='data-7d92e02d-caaa-4090-9274-9f58a9eac360' class='xr-var-data-in' type='checkbox'><label for='data-7d92e02d-caaa-4090-9274-9f58a9eac360' title='Show/Hide data repr'><svg class='icon xr-icon-database'><use xlink:href='#icon-database'></use></svg></label><div class='xr-var-attrs'><dl class='xr-attrs'></dl></div><div class='xr-var-data'><pre>array([0])</pre></div></li><li class='xr-var-item'><div class='xr-var-name'><span>yawCase</span></div><div class='xr-var-dims'>(case)</div><div class='xr-var-dtype'>int64</div><div class='xr-var-preview xr-preview'>1</div><input id='attrs-ea828ce4-9ffa-4937-8a74-3d8596c66657' class='xr-var-attrs-in' type='checkbox' disabled><label for='attrs-ea828ce4-9ffa-4937-8a74-3d8596c66657' title='Show/Hide attributes'><svg class='icon xr-icon-file-text2'><use xlink:href='#icon-file-text2'></use></svg></label><input id='data-0ff38368-6bb5-4cc8-aaaf-fc5766d8e643' class='xr-var-data-in' type='checkbox'><label for='data-0ff38368-6bb5-4cc8-aaaf-fc5766d8e643' title='Show/Hide data repr'><svg class='icon xr-icon-database'><use xlink:href='#icon-database'></use></svg></label><div class='xr-var-attrs'><dl class='xr-attrs'></dl></div><div class='xr-var-data'><pre>array([1])</pre></div></li><li class='xr-var-item'><div class='xr-var-name'><span>EDmodel</span></div><div class='xr-var-dims'>(case, turbine)</div><div class='xr-var-dtype'>object</div><div class='xr-var-preview xr-preview'>&#x27;FED&#x27; &#x27;FED&#x27;</div><input id='attrs-3179b7ef-7db0-4098-b9c3-2d70060ba9b0' class='xr-var-attrs-in' type='checkbox' disabled><label for='attrs-3179b7ef-7db0-4098-b9c3-2d70060ba9b0' title='Show/Hide attributes'><svg class='icon xr-icon-file-text2'><use xlink:href='#icon-file-text2'></use></svg></label><input id='data-33104dd8-0dce-44c2-8f9e-337c8a250d9f' class='xr-var-data-in' type='checkbox'><label for='data-33104dd8-0dce-44c2-8f9e-337c8a250d9f' title='Show/Hide data repr'><svg class='icon xr-icon-database'><use xlink:href='#icon-database'></use></svg></label><div class='xr-var-attrs'><dl class='xr-attrs'></dl></div><div class='xr-var-data'><pre>array([[&#x27;FED&#x27;, &#x27;FED&#x27;]], dtype=object)</pre></div></li><li class='xr-var-item'><div class='xr-var-name'><span>ADmodel</span></div><div class='xr-var-dims'>(case, turbine)</div><div class='xr-var-dtype'>object</div><div class='xr-var-preview xr-preview'>&#x27;ADyn&#x27; &#x27;ADyn&#x27;</div><input id='attrs-ea6dfe4b-b45e-4eb6-b8b7-5ea23abe376c' class='xr-var-attrs-in' type='checkbox' disabled><label for='attrs-ea6dfe4b-b45e-4eb6-b8b7-5ea23abe376c' title='Show/Hide attributes'><svg class='icon xr-icon-file-text2'><use xlink:href='#icon-file-text2'></use></svg></label><input id='data-76135932-18d0-4a21-a782-45581755ef5c' class='xr-var-data-in' type='checkbox'><label for='data-76135932-18d0-4a21-a782-45581755ef5c' title='Show/Hide data repr'><svg class='icon xr-icon-database'><use xlink:href='#icon-database'></use></svg></label><div class='xr-var-attrs'><dl class='xr-attrs'></dl></div><div class='xr-var-data'><pre>array([[&#x27;ADyn&#x27;, &#x27;ADyn&#x27;]], dtype=object)</pre></div></li><li class='xr-var-item'><div class='xr-var-name'><span>nFulllElastoDyn</span></div><div class='xr-var-dims'>(case)</div><div class='xr-var-dtype'>int64</div><div class='xr-var-preview xr-preview'>2</div><input id='attrs-809423df-85c2-4798-9bad-6c5f4bb3aad1' class='xr-var-attrs-in' type='checkbox' disabled><label for='attrs-809423df-85c2-4798-9bad-6c5f4bb3aad1' title='Show/Hide attributes'><svg class='icon xr-icon-file-text2'><use xlink:href='#icon-file-text2'></use></svg></label><input id='data-21efdb96-6d85-4bec-97b9-e91b08d24946' class='xr-var-data-in' type='checkbox'><label for='data-21efdb96-6d85-4bec-97b9-e91b08d24946' title='Show/Hide data repr'><svg class='icon xr-icon-database'><use xlink:href='#icon-database'></use></svg></label><div class='xr-var-attrs'><dl class='xr-attrs'></dl></div><div class='xr-var-data'><pre>array([2])</pre></div></li><li class='xr-var-item'><div class='xr-var-name'><span>nFullAeroDyn</span></div><div class='xr-var-dims'>(case)</div><div class='xr-var-dtype'>int64</div><div class='xr-var-preview xr-preview'>2</div><input id='attrs-1f288878-8722-4bf1-9fb8-80786f95f568' class='xr-var-attrs-in' type='checkbox' disabled><label for='attrs-1f288878-8722-4bf1-9fb8-80786f95f568' title='Show/Hide attributes'><svg class='icon xr-icon-file-text2'><use xlink:href='#icon-file-text2'></use></svg></label><input id='data-8a8a67d1-bea1-4297-b51a-38f2e8032361' class='xr-var-data-in' type='checkbox'><label for='data-8a8a67d1-bea1-4297-b51a-38f2e8032361' title='Show/Hide data repr'><svg class='icon xr-icon-database'><use xlink:href='#icon-database'></use></svg></label><div class='xr-var-attrs'><dl class='xr-attrs'></dl></div><div class='xr-var-data'><pre>array([2])</pre></div></li><li class='xr-var-item'><div class='xr-var-name'><span>yawmis</span></div><div class='xr-var-dims'>(case, turbine)</div><div class='xr-var-dtype'>float64</div><div class='xr-var-preview xr-preview'>0.0 0.0</div><input id='attrs-0d1e362f-cfd6-4ca7-8ff1-1372ad50e508' class='xr-var-attrs-in' type='checkbox' disabled><label for='attrs-0d1e362f-cfd6-4ca7-8ff1-1372ad50e508' title='Show/Hide attributes'><svg class='icon xr-icon-file-text2'><use xlink:href='#icon-file-text2'></use></svg></label><input id='data-56cc45ed-04df-4730-80f2-523e54cf0488' class='xr-var-data-in' type='checkbox'><label for='data-56cc45ed-04df-4730-80f2-523e54cf0488' title='Show/Hide data repr'><svg class='icon xr-icon-database'><use xlink:href='#icon-database'></use></svg></label><div class='xr-var-attrs'><dl class='xr-attrs'></dl></div><div class='xr-var-data'><pre>array([[0., 0.]])</pre></div></li><li class='xr-var-item'><div class='xr-var-name'><span>misalignment</span></div><div class='xr-var-dims'>(case)</div><div class='xr-var-dtype'>bool</div><div class='xr-var-preview xr-preview'>False</div><input id='attrs-843fab46-fad2-4f60-9b2a-ebf4001575a3' class='xr-var-attrs-in' type='checkbox' disabled><label for='attrs-843fab46-fad2-4f60-9b2a-ebf4001575a3' title='Show/Hide attributes'><svg class='icon xr-icon-file-text2'><use xlink:href='#icon-file-text2'></use></svg></label><input id='data-4e0ab6ab-d02e-413c-8a9e-1d3d2cb2e290' class='xr-var-data-in' type='checkbox'><label for='data-4e0ab6ab-d02e-413c-8a9e-1d3d2cb2e290' title='Show/Hide data repr'><svg class='icon xr-icon-database'><use xlink:href='#icon-database'></use></svg></label><div class='xr-var-attrs'><dl class='xr-attrs'></dl></div><div class='xr-var-data'><pre>array([False])</pre></div></li></ul></div></li><li class='xr-section-item'><input id='section-c32934f1-2096-461d-a6b9-1beb275bb35d' class='xr-section-summary-in' type='checkbox'  ><label for='section-c32934f1-2096-461d-a6b9-1beb275bb35d' class='xr-section-summary' >Indexes: <span>(2)</span></label><div class='xr-section-inline-details'></div><div class='xr-section-details'><ul class='xr-var-list'><li class='xr-var-item'><div class='xr-index-name'><div>case</div></div><div class='xr-index-preview'>PandasIndex</div><input type='checkbox' disabled/><label></label><input id='index-7f63febc-f87c-476a-8f70-b3587081a588' class='xr-index-data-in' type='checkbox'/><label for='index-7f63febc-f87c-476a-8f70-b3587081a588' title='Show/Hide index repr'><svg class='icon xr-icon-database'><use xlink:href='#icon-database'></use></svg></label><div class='xr-index-data'><pre>PandasIndex(Index([0], dtype=&#x27;int64&#x27;, name=&#x27;case&#x27;))</pre></div></li><li class='xr-var-item'><div class='xr-index-name'><div>turbine</div></div><div class='xr-index-preview'>PandasIndex</div><input type='checkbox' disabled/><label></label><input id='index-1217bbe3-6ed6-4857-b08d-f01df60835a1' class='xr-index-data-in' type='checkbox'/><label for='index-1217bbe3-6ed6-4857-b08d-f01df60835a1' title='Show/Hide index repr'><svg class='icon xr-icon-database'><use xlink:href='#icon-database'></use></svg></label><div class='xr-index-data'><pre>PandasIndex(Index([0, 1], dtype=&#x27;int64&#x27;, name=&#x27;turbine&#x27;))</pre></div></li></ul></div></li><li class='xr-section-item'><input id='section-eb15ce59-d4ba-4851-af20-7c955b2804b6' class='xr-section-summary-in' type='checkbox' disabled ><label for='section-eb15ce59-d4ba-4851-af20-7c955b2804b6' class='xr-section-summary'  title='Expand/collapse section'>Attributes: <span>(0)</span></label><div class='xr-section-inline-details'></div><div class='xr-section-details'><dl class='xr-attrs'></dl></div></li></ul></div></div>"
      ],
      "text/plain": [
       "<xarray.Dataset> Size: 217B\n",
       "Dimensions:          (case: 1, turbine: 2)\n",
       "Coordinates:\n",
       "  * case             (case) int64 8B 0\n",
       "  * turbine          (turbine) int64 16B 0 1\n",
       "Data variables: (12/15)\n",
       "    Tx               (case, turbine) float64 16B 500.0 1.1e+03\n",
       "    Ty               (case, turbine) float64 16B 480.0 480.0\n",
       "    Tz               (case, turbine) float64 16B 0.0 0.0\n",
       "    phi              (case, turbine) float64 16B 0.0 0.0\n",
       "    D                (case, turbine) int64 16B 240 240\n",
       "    zhub             (case, turbine) int64 16B 150 150\n",
       "    ...               ...\n",
       "    EDmodel          (case, turbine) object 16B 'FED' 'FED'\n",
       "    ADmodel          (case, turbine) object 16B 'ADyn' 'ADyn'\n",
       "    nFulllElastoDyn  (case) int64 8B 2\n",
       "    nFullAeroDyn     (case) int64 8B 2\n",
       "    yawmis           (case, turbine) float64 16B 0.0 0.0\n",
       "    misalignment     (case) bool 1B False"
      ]
     },
     "execution_count": 5,
     "metadata": {},
     "output_type": "execute_result"
    }
   ],
   "source": [
    "ffcase.allCases\n"
   ]
  },
  {
   "cell_type": "markdown",
   "id": "4eefab1b-d9df-4dd8-b2df-2cfb3bdc87a2",
   "metadata": {},
   "source": [
    "You have easy access to information related to your case. This FAST.Farm setup is for a single condition with a single case, so this array is simple. Will show later more complex cases and how to pick out information from the array above.\n",
    "\n",
    "You can also plot your setup. On the plot, the extents set previously become clear. See how the `extent_low` related to xmax is larger than the others."
   ]
  },
  {
   "cell_type": "code",
   "execution_count": 6,
   "id": "e79bad9e-53ca-45ef-b39d-91e70034024c",
   "metadata": {},
   "outputs": [
    {
     "data": {
      "image/png": "[encoded data removed]",
      "text/plain": [
       "<Figure size 1400x700 with 1 Axes>"
      ]
     },
     "metadata": {},
     "output_type": "display_data"
    }
   ],
   "source": [
    "ffcase.plot()  # add showTurbNumber=True to help with potential debugging\n",
    "# The plot command above saves the images to the case root `ffcase.path`"
   ]
  },
  {
   "cell_type": "markdown",
   "id": "717686bd-ee71-4d4c-8c78-f9d01eed4843",
   "metadata": {},
   "source": [
    "Now comes the main part, which is the turbsim setup. The third call is commented out since you won't be doing this from an HPC."
   ]
  },
  {
   "cell_type": "code",
   "execution_count": 7,
   "id": "eb9c0798-8f78-4d32-afdc-058ee24a9267",
   "metadata": {},
   "outputs": [
    {
     "ename": "FileNotFoundError",
     "evalue": "[Errno 2] No such file or directory: 'ff_example2a\\\\Cond00_v08.0_PL0.1_TI10\\\\Seed_0\\\\Low_stillToBeModified.inp'",
     "output_type": "error",
     "traceback": [
      "\u001b[31m---------------------------------------------------------------------------\u001b[39m",
      "\u001b[31mFileNotFoundError\u001b[39m                         Traceback (most recent call last)",
      "\u001b[36mCell\u001b[39m\u001b[36m \u001b[39m\u001b[32mIn[7]\u001b[39m\u001b[32m, line 5\u001b[39m\n\u001b[32m      1\u001b[39m \u001b[38;5;66;03m# -----------------------------------------------------------------------------\u001b[39;00m\n\u001b[32m      2\u001b[39m \u001b[38;5;66;03m# ---------------------- TurbSim setup and execution --------------------------\u001b[39;00m\n\u001b[32m      3\u001b[39m \u001b[38;5;66;03m# -----------------------------------------------------------------------------\u001b[39;00m\n\u001b[32m      4\u001b[39m \u001b[38;5;66;03m# ----------- TurbSim low-res setup\u001b[39;00m\n\u001b[32m----> \u001b[39m\u001b[32m5\u001b[39m \u001b[43mffcase\u001b[49m\u001b[43m.\u001b[49m\u001b[43mTS_low_setup\u001b[49m\u001b[43m(\u001b[49m\u001b[43m)\u001b[49m\n\u001b[32m      6\u001b[39m \u001b[38;5;66;03m# ----------- Prepare script for submission\u001b[39;00m\n\u001b[32m      7\u001b[39m ffcase.TS_low_slurm_prepare(slurm_TS_low)\n",
      "\u001b[36mFile \u001b[39m\u001b[32mC:\\Work\\_libs\\openfast_toolbox\\openfast_toolbox\\fastfarm\\FASTFarmCaseCreation.py:1781\u001b[39m, in \u001b[36mFFCaseCreation.TS_low_setup\u001b[39m\u001b[34m(self, writeFiles, runOnce)\u001b[39m\n\u001b[32m   1774\u001b[39m \u001b[38;5;28;01mif\u001b[39;00m runOnce: \u001b[38;5;28;01mreturn\u001b[39;00m\n\u001b[32m   1776\u001b[39m \u001b[38;5;66;03m# Write the actual TurbSim input file. Here we set the total simulation time to one time-step\u001b[39;00m\n\u001b[32m   1777\u001b[39m \u001b[38;5;66;03m# longer than the requested value. When executing the high-res boxes, sometimes the resulting\u001b[39;00m\n\u001b[32m   1778\u001b[39m \u001b[38;5;66;03m# flowfield is shorter than the requested total simulation time. So if we ask for the low-res\u001b[39;00m\n\u001b[32m   1779\u001b[39m \u001b[38;5;66;03m# with the exact length we want, the high-res boxes might be shorter than tmax. Note that the \u001b[39;00m\n\u001b[32m   1780\u001b[39m \u001b[38;5;66;03m# total FAST.Farm simulation time remains unmodified from what the user requested.\u001b[39;00m\n\u001b[32m-> \u001b[39m\u001b[32m1781\u001b[39m \u001b[38;5;28;43mself\u001b[39;49m\u001b[43m.\u001b[49m\u001b[43mTSlowbox\u001b[49m\u001b[43m.\u001b[49m\u001b[43mwriteTSFile\u001b[49m\u001b[43m(\u001b[49m\u001b[38;5;28;43mself\u001b[39;49m\u001b[43m.\u001b[49m\u001b[43mturbsimLowfilepath\u001b[49m\u001b[43m,\u001b[49m\u001b[43m \u001b[49m\u001b[43mcurrentTSLowFile\u001b[49m\u001b[43m,\u001b[49m\u001b[43m \u001b[49m\u001b[43mtmax\u001b[49m\u001b[43m=\u001b[49m\u001b[38;5;28;43mself\u001b[39;49m\u001b[43m.\u001b[49m\u001b[43mtmax\u001b[49m\u001b[43m+\u001b[49m\u001b[38;5;28;43mself\u001b[39;49m\u001b[43m.\u001b[49m\u001b[43mdt_low\u001b[49m\u001b[43m,\u001b[49m\u001b[43m \u001b[49m\u001b[43mverbose\u001b[49m\u001b[43m=\u001b[49m\u001b[38;5;28;43mself\u001b[39;49m\u001b[43m.\u001b[49m\u001b[43mverbose\u001b[49m\u001b[43m)\u001b[49m\n\u001b[32m   1783\u001b[39m \u001b[38;5;66;03m# Modify some values and save file (some have already been set in the call above)\u001b[39;00m\n\u001b[32m   1784\u001b[39m Lowinp = FASTInputFile(currentTSLowFile)\n",
      "\u001b[36mFile \u001b[39m\u001b[32mC:\\Work\\_libs\\openfast_toolbox\\openfast_toolbox\\fastfarm\\TurbSimCaseCreation.py:224\u001b[39m, in \u001b[36mTSCaseCreation.writeTSFile\u001b[39m\u001b[34m(self, fileIn, fileOut, NewFile, tpath, tmax, turb, verbose)\u001b[39m\n\u001b[32m    219\u001b[39m \u001b[38;5;28;01mdef\u001b[39;00m\u001b[38;5;250m \u001b[39m\u001b[34mwriteTSFile\u001b[39m(\u001b[38;5;28mself\u001b[39m, fileIn, fileOut, NewFile=\u001b[38;5;28;01mTrue\u001b[39;00m, tpath=\u001b[38;5;28;01mNone\u001b[39;00m, tmax=\u001b[32m50\u001b[39m, turb=\u001b[38;5;28;01mNone\u001b[39;00m, verbose=\u001b[32m0\u001b[39m):\n\u001b[32m    220\u001b[39m \u001b[38;5;250m    \u001b[39m\u001b[33;03m\"\"\"\u001b[39;00m\n\u001b[32m    221\u001b[39m \u001b[33;03m    Write a TurbSim primary input file.\u001b[39;00m\n\u001b[32m    222\u001b[39m \u001b[33;03m    See WriteTSFile below.\u001b[39;00m\n\u001b[32m    223\u001b[39m \u001b[33;03m    \"\"\"\u001b[39;00m\n\u001b[32m--> \u001b[39m\u001b[32m224\u001b[39m     \u001b[43mWriteTSFile\u001b[49m\u001b[43m(\u001b[49m\u001b[43mfileIn\u001b[49m\u001b[43m,\u001b[49m\u001b[43m \u001b[49m\u001b[43mfileOut\u001b[49m\u001b[43m,\u001b[49m\u001b[43m \u001b[49m\u001b[38;5;28;43mself\u001b[39;49m\u001b[43m,\u001b[49m\u001b[43m \u001b[49m\u001b[43mNewFile\u001b[49m\u001b[43m=\u001b[49m\u001b[43mNewFile\u001b[49m\u001b[43m,\u001b[49m\u001b[43m \u001b[49m\u001b[43mtpath\u001b[49m\u001b[43m=\u001b[49m\u001b[43mtpath\u001b[49m\u001b[43m,\u001b[49m\u001b[43m \u001b[49m\u001b[43mtmax\u001b[49m\u001b[43m=\u001b[49m\u001b[43mtmax\u001b[49m\u001b[43m,\u001b[49m\u001b[43m \u001b[49m\u001b[43mturb\u001b[49m\u001b[43m=\u001b[49m\u001b[43mturb\u001b[49m\u001b[43m,\u001b[49m\u001b[43m \u001b[49m\u001b[43mverbose\u001b[49m\u001b[43m=\u001b[49m\u001b[43mverbose\u001b[49m\u001b[43m)\u001b[49m\n",
      "\u001b[36mFile \u001b[39m\u001b[32mC:\\Work\\_libs\\openfast_toolbox\\openfast_toolbox\\fastfarm\\TurbSimCaseCreation.py:253\u001b[39m, in \u001b[36mWriteTSFile\u001b[39m\u001b[34m(fileIn, fileOut, params, NewFile, tpath, tmax, turb, verbose)\u001b[39m\n\u001b[32m    251\u001b[39m \u001b[38;5;28;01mif\u001b[39;00m verbose>\u001b[32m1\u001b[39m:  \u001b[38;5;28mprint\u001b[39m(\u001b[33mf\u001b[39m\u001b[33m'\u001b[39m\u001b[33mWriting a new \u001b[39m\u001b[38;5;132;01m{\u001b[39;00mfileOut\u001b[38;5;132;01m}\u001b[39;00m\u001b[33m file from scratch\u001b[39m\u001b[33m'\u001b[39m)\n\u001b[32m    252\u001b[39m \u001b[38;5;66;03m# --- Writing FFarm input file from scratch\u001b[39;00m\n\u001b[32m--> \u001b[39m\u001b[32m253\u001b[39m \u001b[38;5;28;01mwith\u001b[39;00m \u001b[38;5;28;43mopen\u001b[39;49m\u001b[43m(\u001b[49m\u001b[43mfileOut\u001b[49m\u001b[43m,\u001b[49m\u001b[43m \u001b[49m\u001b[33;43m'\u001b[39;49m\u001b[33;43mw\u001b[39;49m\u001b[33;43m'\u001b[39;49m\u001b[43m)\u001b[49m \u001b[38;5;28;01mas\u001b[39;00m f:\n\u001b[32m    254\u001b[39m     f.write(\u001b[33mf\u001b[39m\u001b[33m'\u001b[39m\u001b[33m--------TurbSim v2.00.* Input File------------------------\u001b[39m\u001b[38;5;130;01m\\n\u001b[39;00m\u001b[33m'\u001b[39m)\n\u001b[32m    255\u001b[39m     f.write(\u001b[33mf\u001b[39m\u001b[33m'\u001b[39m\u001b[33mfor Certification Test #1 (Kaimal Spectrum, formatted FF files).\u001b[39m\u001b[38;5;130;01m\\n\u001b[39;00m\u001b[33m'\u001b[39m)\n",
      "\u001b[31mFileNotFoundError\u001b[39m: [Errno 2] No such file or directory: 'ff_example2a\\\\Cond00_v08.0_PL0.1_TI10\\\\Seed_0\\\\Low_stillToBeModified.inp'"
     ]
    }
   ],
   "source": [
    "# -----------------------------------------------------------------------------\n",
    "# ---------------------- TurbSim setup and execution --------------------------\n",
    "# -----------------------------------------------------------------------------\n",
    "# ----------- TurbSim low-res setup\n",
    "ffcase.TS_low_setup()\n",
    "# ----------- Prepare script for submission\n",
    "ffcase.TS_low_slurm_prepare(slurm_TS_low)\n",
    "# ----------- Submit the low-res script (can be done from the command line)\n",
    "#ffcase.TS_low_slurm_submit()"
   ]
  },
  {
   "cell_type": "markdown",
   "id": "0d2217e1-3e7d-4a79-b124-c6852ec71b1b",
   "metadata": {},
   "source": [
    "Now, if you go the the directory of this case, `ffcase.path`, you will see a _condition_ directory, the png of the farm above, and a bash script to be submitted to slurm. You can submit it through the command line or you can use the `ffcase.TS_low_slurm_submit()` above. You should open the script and show people what it is doing. Some stuff there (like modules) is given for Kestrel. For someone to use it on their own HPC system, they just need to create new template versions of those and give as inputs through the `slurm_TS_high`, `slurm_TS_low`, and `slurm_FF_single` variables."
   ]
  },
  {
   "cell_type": "code",
   "execution_count": null,
   "id": "5871b206-0b04-445c-87b7-c161f63888fd",
   "metadata": {},
   "outputs": [],
   "source": [
    " # For the sake of illustration here, I'll submit it. Note this calls takes a few key SLURM parameters. (takes about 10s)\n",
    "ffcase.TS_low_slurm_submit(A='shellwind', qos='high', t='0:10:00', p='debug')"
   ]
  },
  {
   "cell_type": "markdown",
   "id": "111c64d3-938c-44ae-9a9b-d201216c18ff",
   "metadata": {},
   "source": [
    "Now with the low-res completed, we can move forward with the high-res. Note that if you try to call `ffcase.TS_high_setup()` before the low-res is done, it will stop when trying to open the low-res box."
   ]
  },
  {
   "cell_type": "code",
   "execution_count": null,
   "id": "131d7786-f0c3-4527-af44-8bf90fc332ae",
   "metadata": {},
   "outputs": [],
   "source": [
    "# ----------- TurbSim high-res setup\n",
    "ffcase.TS_high_setup()\n",
    "# ----------- Prepare script for submission\n",
    "ffcase.TS_high_slurm_prepare(slurm_TS_high)\n",
    "# ----------- Submit the high-res script (can be done from the command line)\n",
    "#ffcase.TS_high_slurm_submit()"
   ]
  },
  {
   "cell_type": "markdown",
   "id": "93d84e68-5f7d-4944-9401-5b637c5898c6",
   "metadata": {},
   "source": [
    "The calls above create the time series to drive the high-res box, taking into account where the turbines are, inclusing the `offset` parameter to TurbSim and also the rolling of the time series, considering how downstream each turbine is."
   ]
  },
  {
   "cell_type": "code",
   "execution_count": null,
   "id": "cd0dd899-f076-4c24-b0c6-91d032c3c186",
   "metadata": {},
   "outputs": [],
   "source": [
    "# Let's run the turbsim boxes. Takes about 3min at the 0.25s temporal res\n",
    "ffcase.TS_high_slurm_submit(A='shellwind', qos='high', t='0:06:00', p='debug')"
   ]
  },
  {
   "cell_type": "markdown",
   "id": "80464167-dc18-490d-a9e7-3050fe2a04dd",
   "metadata": {},
   "source": [
    "After this runs, we can move forward with the FAST.Farm setup. Note how the wake model parameters can be easily set."
   ]
  },
  {
   "cell_type": "code",
   "execution_count": null,
   "id": "2a234130-4c1c-4540-9ec1-3860aa6432db",
   "metadata": {},
   "outputs": [],
   "source": [
    "# -----------------------------------------------------------------------------\n",
    "# ------------------ Finish FAST.Farm setup and execution ---------------------\n",
    "# -----------------------------------------------------------------------------\n",
    "# ----------- FAST.Farm setup\n",
    "ffcase.FF_setup()\n",
    "# Update wake model constants (adjust as needed for your turbine model)\n",
    "ffcase.set_wake_model_params(k_VortexDecay=0, k_vCurl=2.8)\n",
    "\n",
    "# ----------- Prepare script for submission\n",
    "ffcase.FF_slurm_prepare(slurm_FF_single)\n",
    "\n",
    "# ----------- Submit the FAST.Farm script (can be done from the command line)\n",
    "#ffcase.FF_slurm_submit(p='debug', t='1:00:00')"
   ]
  },
  {
   "cell_type": "code",
   "execution_count": null,
   "id": "4e53654b-2a05-4ac2-a2cd-8065169ddb51",
   "metadata": {},
   "outputs": [],
   "source": [
    "# Modify the time step and UA model for this specific case. This also illustrates how to change variables\n",
    "import os\n",
    "from openfast_toolbox.fastfarm.FASTFarmCaseCreation import modifyProperty\n",
    "\n",
    "for cond in range(ffcase.nConditions):\n",
    "    for case in range(ffcase.nCases):\n",
    "        ad_file  = os.path.join(ffcase.path, ffcase.condDirList[cond], ffcase.caseDirList[case], ffcase.ADfilename)\n",
    "        modifyProperty(ad_file, 'UA_Mod', 4)\n",
    "        modifyProperty(ad_file, 'SectAvg', False)\n",
    "        for turb in range(ffcase.nTurbines):\n",
    "            fst_file = os.path.join(ffcase.path, ffcase.condDirList[cond], ffcase.caseDirList[case], f'{ffcase.turbfilename}{turb+1}.fst')\n",
    "            modifyProperty(fst_file, 'DT', 0.001)\n",
    "            "
   ]
  },
  {
   "cell_type": "markdown",
   "id": "6d873f6b-131e-40f1-a7af-f7963641f14d",
   "metadata": {},
   "source": [
    "Let's add some sampling planes so we can process them later."
   ]
  },
  {
   "cell_type": "code",
   "execution_count": null,
   "id": "367f6a5c-7bb9-4938-ab06-594d91d1f667",
   "metadata": {},
   "outputs": [],
   "source": [
    "# ----------- Wake planes to be saved for each turbine (only 9 planes at most can be saved)\n",
    "# The offset is useful if we start sampling at 0 D, so that we actually have an usable plane that is not _at_ the hub plane.\n",
    "wakeplanes_in_D = [1.5, 2.0] # remember the extent on this case is 2.5D\n",
    "offset = 0\n",
    "# Wake points (not planes). Can have up to 9 per turbine\n",
    "wakepoints_in_D = [1,2]\n",
    "\n",
    "\n",
    "# Add wake plane saving (the hub-height and vertical thought the centerline planes are already properly configured though `FF_setup()`\n",
    "for cond in range(ffcase.nConditions):\n",
    "    for case in range(ffcase.nCases):\n",
    "        for seed in range(ffcase.nSeeds):\n",
    "            ff_file = os.path.join(ffcase.path, ffcase.condDirList[cond], ffcase.caseDirList[case], f'Seed_{seed}', ffcase.outputFFfilename)\n",
    "            modifyProperty(ff_file, 'WrDisWind', True)\n",
    "            # Parameters for the wake locations\n",
    "            Tx = ffcase.allCases.isel(case=case).Tx.values\n",
    "            # Wake plane (yz plane)\n",
    "            outdistYZ = np.array([[w*ffcase.D for w in wakeplanes_in_D]+tx+offset for tx in Tx]).flatten()\n",
    "            outdiststrYZ = ', '.join(map(str, outdistYZ))\n",
    "            modifyProperty(ff_file, 'NOutDisWindYZ', len(outdistYZ))\n",
    "            modifyProperty(ff_file, 'OutDisWindX', outdiststrYZ)\n",
    "            # Wake (repeated for every turbine within FAST.Farm)\n",
    "            outdist = np.array([w*ffcase.D+offset for w in wakepoints_in_D]).flatten()\n",
    "            outdiststr = ', '.join(map(str, outdist))\n",
    "            modifyProperty(ff_file, 'NOutDist', len(outdist))\n",
    "            modifyProperty(ff_file, 'OutDist', outdiststr)\n",
    "            # Let's change the frequency planes are saved (default is dt_low)\n",
    "            modifyProperty(ff_file, 'WrDisDT', 1)\n"
   ]
  },
  {
   "cell_type": "code",
   "execution_count": null,
   "id": "378a2c59-3505-4c81-a723-652528ec63c7",
   "metadata": {},
   "outputs": [],
   "source": [
    "# We have 6 seeds, so 6 cases. This call will submit each one of them separately. Should take ~5min each.\n",
    "ffcase.FF_slurm_submit(A='shellwind', qos='high', t='1:00:00')"
   ]
  },
  {
   "cell_type": "code",
   "execution_count": null,
   "id": "a4c299ac-f226-4eb2-bf69-19308853622d",
   "metadata": {},
   "outputs": [],
   "source": [
    "# We can finally just dump the object to disk so we can re-open another time or for post-processing. It will be saved on the ffcase.path path\n",
    "ffcase.save()"
   ]
  },
  {
   "cell_type": "markdown",
   "id": "a3e5ec0b-a95a-4f9f-b744-7cd13a772b33",
   "metadata": {},
   "source": [
    "This concludes the second example. If the input files were valid (meaning they would not result in a fatal error using OpenFAST), the FAST.Farm simulation would likely be successful here."
   ]
  },
  {
   "cell_type": "markdown",
   "id": "30360063-8447-457f-9380-560fdcda8aec",
   "metadata": {},
   "source": [
    "# 3. More complex setups"
   ]
  },
  {
   "cell_type": "markdown",
   "id": "4cf0c885-1699-4c4d-bb86-220ec7fa73d5",
   "metadata": {
    "tags": []
   },
   "source": [
    "# 3.1 Wind speed and wind dir sweep\n",
    "\n",
    "Let's now try to sweep in some wind speeds and directions."
   ]
  },
  {
   "cell_type": "code",
   "execution_count": null,
   "id": "697cc088-20a3-4abc-b86f-021b5d694fa6",
   "metadata": {},
   "outputs": [],
   "source": [
    "# -----------------------------------------------------------------------------\n",
    "# USER INPUT: Modify these\n",
    "# -----------------------------------------------------------------------------\n",
    "\n",
    "# -----------------------------------------------------------------------------\n",
    "# ------------------------ General parameters ---------------------------------\n",
    "# -----------------------------------------------------------------------------\n",
    "\n",
    "# ----------- Case absolute path\n",
    "path = '/projects/tcwnd/rthedin/fastfarm/ff_workshop_nawea2025/ff_examples_ex2a_widr'\n",
    "\n",
    "# ----------- Execution parameters\n",
    "# If you are sure the correct binaries are first on your $PATH and associated\n",
    "# libraries on $LD_LIBRARY_PATH, you can set the variables below to None or\n",
    "# remove them from the `FFCaseCreation` call\n",
    "ffbin = '/projects/tcwnd/rthedin/repos/openfast_v4.1.1/build/install/bin/FAST.Farm'\n",
    "tsbin = '/projects/tcwnd/rthedin/repos/openfast_v4.1.1/build/install/bin/turbsim'\n",
    "\n",
    "\n",
    "# -----------------------------------------------------------------------------\n",
    "# --------------------------- Farm parameters ---------------------------------\n",
    "# -----------------------------------------------------------------------------\n",
    "\n",
    "# ----------- General turbine parameters\n",
    "cmax     = 5      # Maximum blade chord (m)\n",
    "fmax     = 10/6   # Maximum excitation frequency (Hz)\n",
    "Cmeander = 1.9    # Meandering constant (-)\n",
    "D = 240           # Rotor diameter (m)\n",
    "zhub = 150        # Hub height (m)\n",
    "\n",
    "# ----------- Wind farm\n",
    "# The wts dictionary holds information of each wind turbine. The allowed entries\n",
    "# are: x, y, z, D, zhub, cmax, fmax, Cmeander, and phi_deg. The phi_deg is the\n",
    "# only entry that is optional and is related to floating platform heading angle,\n",
    "# given in degrees. The angle phi_deg is not illustrated on the example below.\n",
    "wts = {\n",
    "    0 :{'x': 500.0, 'y': 480, 'z':0.0, 'D':D, 'zhub':zhub, 'cmax':cmax, 'fmax':fmax, 'Cmeander':Cmeander, 'name':'T1'},\n",
    "    1 :{'x':1100.0, 'y': 480, 'z':0.0, 'D':D, 'zhub':zhub, 'cmax':cmax, 'fmax':fmax, 'Cmeander':Cmeander, 'name':'T2'},\n",
    "    2 :{'x':1800.0, 'y': 480, 'z':0.0, 'D':D, 'zhub':zhub, 'cmax':cmax, 'fmax':fmax, 'Cmeander':Cmeander, 'name':'T3'},\n",
    "    3 :{'x': 500.0, 'y':1200, 'z':0.0, 'D':D, 'zhub':zhub, 'cmax':cmax, 'fmax':fmax, 'Cmeander':Cmeander, 'name':'T4'},\n",
    "    4 :{'x':1100.0, 'y':1200, 'z':0.0, 'D':D, 'zhub':zhub, 'cmax':cmax, 'fmax':fmax, 'Cmeander':Cmeander, 'name':'T5'},\n",
    "    5 :{'x':1800.0, 'y':1200, 'z':0.0, 'D':D, 'zhub':zhub, 'cmax':cmax, 'fmax':fmax, 'Cmeander':Cmeander, 'name':'T6'},\n",
    "}\n",
    "refTurb_rot = 0\n",
    "\n",
    "# ----------- Turbine parameters\n",
    "# Set the yaw of each turbine for wind dir. One row for each wind direction.\n",
    "yaw_init = None\n",
    "\n",
    "\n",
    "# -----------------------------------------------------------------------------\n",
    "# ------------------- Inflow conditions and input files -----------------------\n",
    "# -----------------------------------------------------------------------------\n",
    "\n",
    "# ----------- Additional variables\n",
    "tmax = 100      # Total simulation time\n",
    "nSeeds = 6      # Number of seeds\n",
    "zbot = 1        # Bottom of your domain\n",
    "mod_wake = 2    # Wake model. 1: Polar, 2: Curled, 3: Cartesian\n",
    "\n",
    "# ----------- Inflow parameters\n",
    "inflowType = 'TS'\n",
    "\n",
    "# ----------- Desired sweeps\n",
    "vhub       = [8, 10]\n",
    "shear      = [0.1]\n",
    "TIvalue    = [10]\n",
    "inflow_deg = [-5, 0, 5]\n",
    "\n",
    "\n",
    "# ----------- Template files\n",
    "templatePath = '/projects/tcwnd/rthedin/fastfarm/ff_workshop_nawea2025/tutorial_files'\n",
    "# Files should be in templatePath. Put None on any input that is not applicable.\n",
    "templateFiles = {\n",
    "    \"EDfilename\"              : 'IEA-15-240-RWT-Monopile_ElastoDyn.T',\n",
    "    'SrvDfilename'            : 'IEA-15-240-RWT-Monopile_ServoDyn.T',\n",
    "    'ADfilename'              : 'IEA-15-240-RWT-Monopile_AeroDyn15.dat',\n",
    "    'ADbladefilename'         : 'IEA-15-240-RWT_AeroDyn15_blade.dat',\n",
    "    'IWfilename'              : 'IW_WT.dat',\n",
    "    'EDbladefilename'         : 'IEA-15-240-RWT_ElastoDyn_blade.dat',\n",
    "    'EDtowerfilename'         : 'IEA-15-240-RWT-Monopile_ElastoDyn_tower.dat',\n",
    "    'turbfilename'            : 'IEA-15-240-RWT-Monopile.T',\n",
    "    'libdisconfilepath'       : '/projects/tcwnd/rthedin/repos/ROSCO_v2.9.5/rosco/controller/build/libdiscon.so',\n",
    "    'controllerInputfilename' : 'IEA-15-240-RWT-Monopile_DISCON_ROSCOv2.9.IN',\n",
    "    'FFfilename'              : 'FAST.Farm.fstf',\n",
    "    'turbsimLowfilepath'      : '/home/rthedin/repos/openfast_toolbox/openfast_toolbox/fastfarm/examples/SampleFiles/template_Low_InflowXX_SeedY.inp',\n",
    "    'turbsimHighfilepath'     : '/home/rthedin/repos/openfast_toolbox/openfast_toolbox/fastfarm/examples/SampleFiles/template_HighT1_InflowXX_SeedY.inp'\n",
    "}\n",
    "# SLURM scripts\n",
    "slurm_TS_high           = '/home/rthedin/repos/openfast_toolbox/openfast_toolbox/fastfarm/examples/SampleFiles/runAllHighBox.sh'\n",
    "slurm_TS_low            = '/home/rthedin/repos/openfast_toolbox/openfast_toolbox/fastfarm/examples/SampleFiles/runAllLowBox.sh'\n",
    "slurm_FF_single         = '/home/rthedin/repos/openfast_toolbox/openfast_toolbox/fastfarm/examples/SampleFiles/runFASTFarm_cond0_case0_seed0.sh'\n",
    "\n",
    "\n",
    "# -----------------------------------------------------------------------------\n",
    "# ---------------------- Discretization parameters ----------------------------\n",
    "# -----------------------------------------------------------------------------\n",
    "# ----------- Low- and high-res boxes parameters\n",
    "# High-res boxes settings\n",
    "dt_high     =  0.25               # sampling frequency of high-res files\n",
    "ds_high     =  5                  # dx, dy, dz of high-res files\n",
    "extent_high =  1.2                # extent in y and x for each turbine, in D\n",
    "# Low-res boxes settings\n",
    "dt_low      = 1.0                 # sampling frequency of low-res files\n",
    "ds_low      = 25                  # dx, dy, dz of low-res files\n",
    "extent_low  = [1.5,2.5,1.5,1.5,2] # extent in [xmin,xmax,ymin,ymax,zmax], in D\n",
    "\n",
    "\n",
    "# -----------------------------------------------------------------------------\n",
    "# END OF USER INPUT\n",
    "# -----------------------------------------------------------------------------"
   ]
  },
  {
   "cell_type": "code",
   "execution_count": null,
   "id": "1bef0c29-72a3-4bae-9fd0-e699999821a0",
   "metadata": {},
   "outputs": [],
   "source": [
    "# -----------------------------------------------------------------------------\n",
    "# -------------------- FAST.Farm initial setup --------------------------------\n",
    "# -----------------------------------------------------------------------------\n",
    "# ----------- Initial setup\n",
    "ffcase = FFCaseCreation(path, wts, tmax, zbot, vhub, shear, TIvalue, inflow_deg,\n",
    "                        dt_high=dt_high, ds_high=ds_high, extent_high=extent_high,\n",
    "                        dt_low=dt_low,   ds_low=ds_low,   extent_low=extent_low,\n",
    "                        ffbin=ffbin, mod_wake=mod_wake, yaw_init=yaw_init,\n",
    "                        nSeeds=nSeeds, tsbin=tsbin, inflowType=inflowType,\n",
    "                        refTurb_rot=refTurb_rot, verbose=1)\n",
    "\n",
    "# ----------- Perform auxiliary steps in preparing the case\n",
    "ffcase.setTemplateFilename(templatePath, templateFiles)\n",
    "ffcase.getDomainParameters()\n",
    "ffcase.copyTurbineFilesForEachCase()"
   ]
  },
  {
   "cell_type": "markdown",
   "id": "cc9c02b1-386c-4ff5-8d0c-7487de99443a",
   "metadata": {},
   "source": [
    "Note that we asked for 2 wind speeds (two _conditions_) and 3 inflow directions. A change in direction only doesn't mean we will re-run the inflow, but rather we will rotate the farm. So a sweep in wind direction means another _case_. For each _condition_, we then have 3 _cases_. We can see all the conditions and cases as follows:"
   ]
  },
  {
   "cell_type": "code",
   "execution_count": null,
   "id": "07d95e71-dba6-49f5-81cc-bd9b6edaf897",
   "metadata": {},
   "outputs": [],
   "source": [
    "ffcase.allCond"
   ]
  },
  {
   "cell_type": "code",
   "execution_count": null,
   "id": "002c997f-6cea-4717-8315-f46611ea2634",
   "metadata": {},
   "outputs": [],
   "source": [
    "ffcase.allCases"
   ]
  },
  {
   "cell_type": "code",
   "execution_count": null,
   "id": "7598e6a5-1879-4b8f-a4b6-1bad3fbc2ccb",
   "metadata": {},
   "outputs": [],
   "source": [
    "# Now the plotting function is more helpful. See how the farm was rotated to accomodate the new wind direction\n",
    "# Also note how the turbine has been yawed so that it remains aligned given the change in the wind direction.\n",
    "ffcase.plot()"
   ]
  },
  {
   "cell_type": "markdown",
   "id": "e6895394-0ec5-4e8d-a835-359b55030a21",
   "metadata": {
    "tags": []
   },
   "source": [
    "# 3.2 Yaw misalignment\n",
    "\n",
    "Let's add some yaw misalignment. Let's reduce to a single _condition_ and reduce the sweeps in wdir to only two."
   ]
  },
  {
   "cell_type": "code",
   "execution_count": null,
   "id": "dd893aaa-0680-43fa-9c34-2d0628d0b7a3",
   "metadata": {},
   "outputs": [],
   "source": [
    "# ----------- Case absolute path\n",
    "path = '/projects/tcwnd/rthedin/fastfarm/ff_workshop_nawea2025/ff_examples_ex2a_yaw'\n",
    "\n",
    "# ----------- Turbine parameters\n",
    "# Set the yaw of each turbine for wind dir. One row for each wind direction.\n",
    "yaw_init = [[0, 0, 0, 0, 0, 0],\n",
    "            [8, 8, 8, 8, 8, 8]]\n",
    "\n",
    "# ----------- Desired sweeps\n",
    "vhub       = [10]\n",
    "inflow_deg = [0, 5]\n"
   ]
  },
  {
   "cell_type": "code",
   "execution_count": null,
   "id": "fda9bd2d-64d5-46e1-ae96-fdbc357c42fc",
   "metadata": {},
   "outputs": [],
   "source": [
    "# -----------------------------------------------------------------------------\n",
    "# -------------------- FAST.Farm initial setup --------------------------------\n",
    "# -----------------------------------------------------------------------------\n",
    "# ----------- Initial setup\n",
    "ffcase = FFCaseCreation(path, wts, tmax, zbot, vhub, shear, TIvalue, inflow_deg,\n",
    "                        dt_high=dt_high, ds_high=ds_high, extent_high=extent_high,\n",
    "                        dt_low=dt_low,   ds_low=ds_low,   extent_low=extent_low,\n",
    "                        ffbin=ffbin, mod_wake=mod_wake, yaw_init=yaw_init,\n",
    "                        nSeeds=nSeeds, tsbin=tsbin, inflowType=inflowType,\n",
    "                        refTurb_rot=refTurb_rot, verbose=1)\n",
    "\n",
    "# ----------- Perform auxiliary steps in preparing the case\n",
    "ffcase.setTemplateFilename(templatePath, templateFiles)\n",
    "ffcase.getDomainParameters()\n",
    "ffcase.copyTurbineFilesForEachCase()"
   ]
  },
  {
   "cell_type": "markdown",
   "id": "ec1a97f1-c055-44c2-8531-018fa11fb6e2",
   "metadata": {},
   "source": [
    "Note, however, that the setup above does zero yaw with the 0 wind direction and 8 deg yaw with the 5 deg wind direction. These fields are not combinatory. If we want that, we need to set it up slightly different:"
   ]
  },
  {
   "cell_type": "code",
   "execution_count": null,
   "id": "827ef2b2-dccc-4731-9b04-e07eb58b9c5b",
   "metadata": {},
   "outputs": [],
   "source": [
    "# ----------- Case absolute path\n",
    "path = '/projects/tcwnd/rthedin/fastfarm/ff_workshop_nawea2025/ff_examples_ex2a_yaw2'\n",
    "\n",
    "# ----------- Turbine parameters\n",
    "# Set the yaw of each turbine for wind dir. One row for each wind direction.\n",
    "yaw_init = [[0, 0, 0, 0, 0, 0],\n",
    "            [8, 8, 8, 8, 8, 8],\n",
    "            [0, 0, 0, 0, 0, 0],\n",
    "            [8, 8, 8, 8, 8, 8]]\n",
    "\n",
    "# ----------- Desired sweeps\n",
    "vhub       = [10]\n",
    "inflow_deg = [0, 0, 5, 5]\n"
   ]
  },
  {
   "cell_type": "code",
   "execution_count": null,
   "id": "8a1e2cd8-835d-4dea-812c-de47326efe93",
   "metadata": {},
   "outputs": [],
   "source": [
    "# -----------------------------------------------------------------------------\n",
    "# -------------------- FAST.Farm initial setup --------------------------------\n",
    "# -----------------------------------------------------------------------------\n",
    "# ----------- Initial setup\n",
    "ffcase = FFCaseCreation(path, wts, tmax, zbot, vhub, shear, TIvalue, inflow_deg,\n",
    "                        dt_high=dt_high, ds_high=ds_high, extent_high=extent_high,\n",
    "                        dt_low=dt_low,   ds_low=ds_low,   extent_low=extent_low,\n",
    "                        ffbin=ffbin, mod_wake=mod_wake, yaw_init=yaw_init,\n",
    "                        nSeeds=nSeeds, tsbin=tsbin, inflowType=inflowType,\n",
    "                        refTurb_rot=refTurb_rot, verbose=1)\n",
    "\n",
    "# ----------- Perform auxiliary steps in preparing the case\n",
    "ffcase.setTemplateFilename(templatePath, templateFiles)\n",
    "ffcase.getDomainParameters()\n",
    "ffcase.copyTurbineFilesForEachCase()"
   ]
  },
  {
   "cell_type": "code",
   "execution_count": null,
   "id": "d106cef6-f5a2-4bd4-95b9-affeedc9d680",
   "metadata": {},
   "outputs": [],
   "source": [
    "ffcase.allCases"
   ]
  },
  {
   "cell_type": "code",
   "execution_count": null,
   "id": "ea7726ac-bde8-4805-976f-363bf1b6c6e1",
   "metadata": {},
   "outputs": [],
   "source": [
    "# Note how each turbine has two yaw angles now (less confusing to see on T6)\n",
    "ffcase.plot()"
   ]
  },
  {
   "cell_type": "markdown",
   "id": "ccdcc035-178f-4460-89c3-08e2cfc28e4d",
   "metadata": {},
   "source": [
    "# 4. Some details about the case setups and some bonus things you can do with the toolbox"
   ]
  },
  {
   "cell_type": "markdown",
   "id": "0b7b91b2-0bcc-4aeb-8933-4de13636c426",
   "metadata": {},
   "source": [
    "## 4.1. LES sampling\n",
    "Starting from scratch again."
   ]
  },
  {
   "cell_type": "code",
   "execution_count": null,
   "id": "05e1ca42-5d1f-499a-87d1-cbcae3da0402",
   "metadata": {},
   "outputs": [],
   "source": [
    "from openfast_toolbox.fastfarm.AMRWindSimulation import AMRWindSimulation"
   ]
  },
  {
   "cell_type": "code",
   "execution_count": null,
   "id": "02c2ec44-c450-4299-8ccd-16f5c20d5841",
   "metadata": {},
   "outputs": [],
   "source": [
    "# -----------------------------------------------------------------------------\n",
    "# USER INPUT: Modify these\n",
    "# -----------------------------------------------------------------------------\n",
    "\n",
    "# -----------------------------------------------------------------------------\n",
    "# ------------------------ General parameters ---------------------------------\n",
    "# -----------------------------------------------------------------------------\n",
    "\n",
    "# ----------- Case absolute path\n",
    "path = '/projects/tcwnd/rthedin/fastfarm/ff_workshop_nawea2025/ff_examples_amr'\n",
    "\n",
    "\n",
    "# -----------------------------------------------------------------------------\n",
    "# --------------------------- Farm parameters ---------------------------------\n",
    "# -----------------------------------------------------------------------------\n",
    "\n",
    "# ----------- General turbine parameters\n",
    "cmax     = 5      # Maximum blade chord (m)\n",
    "fmax     = 10/6   # Maximum excitation frequency (Hz)\n",
    "Cmeander = 1.9    # Meandering constant (-)\n",
    "D = 240           # Rotor diameter (m)\n",
    "zhub = 150        # Hub height (m)\n",
    "\n",
    "# ----------- Wind farm\n",
    "wts = {\n",
    "    0 :{'x': 500.0, 'y': 480, 'z':0.0, 'D':D, 'zhub':zhub, 'cmax':cmax, 'fmax':fmax, 'Cmeander':Cmeander, 'name':'T1'},\n",
    "    1 :{'x':1100.0, 'y': 480, 'z':0.0, 'D':D, 'zhub':zhub, 'cmax':cmax, 'fmax':fmax, 'Cmeander':Cmeander, 'name':'T2'},\n",
    "    2 :{'x':1800.0, 'y': 480, 'z':0.0, 'D':D, 'zhub':zhub, 'cmax':cmax, 'fmax':fmax, 'Cmeander':Cmeander, 'name':'T3'},\n",
    "    3 :{'x': 500.0, 'y':1200, 'z':0.0, 'D':D, 'zhub':zhub, 'cmax':cmax, 'fmax':fmax, 'Cmeander':Cmeander, 'name':'T4'},\n",
    "    4 :{'x':1100.0, 'y':1200, 'z':0.0, 'D':D, 'zhub':zhub, 'cmax':cmax, 'fmax':fmax, 'Cmeander':Cmeander, 'name':'T5'},\n",
    "    5 :{'x':1800.0, 'y':1200, 'z':0.0, 'D':D, 'zhub':zhub, 'cmax':cmax, 'fmax':fmax, 'Cmeander':Cmeander, 'name':'T6'},\n",
    "}\n",
    "refTurb_rot = 0\n",
    "\n",
    "# -----------------------------------------------------------------------------\n",
    "# ------------------- Inflow conditions and input files -----------------------\n",
    "# -----------------------------------------------------------------------------\n",
    "\n",
    "# ----------- Additional variables\n",
    "mod_wake = 2    # Wake model. 1: Polar, 2: Curled, 3: Cartesian\n",
    "\n",
    "\n",
    "# -----------------------------------------------------------------------------\n",
    "# ---------------------- Discretization parameters ----------------------------\n",
    "# -----------------------------------------------------------------------------\n",
    "# ----------- Low- and high-res boxes parameters\n",
    "# High-res boxes settings\n",
    "dt_high     =  0.25               # sampling frequency of high-res files\n",
    "ds_high     =  5                  # dx, dy, dz of high-res files\n",
    "# Low-res boxes settings\n",
    "dt_low      = 1.0                 # sampling frequency of low-res files\n",
    "ds_low      = 25                  # dx, dy, dz of low-res files\n",
    "\n",
    "\n",
    "# -----------------------------------------------------------------------------\n",
    "# END OF USER INPUT\n",
    "# -----------------------------------------------------------------------------"
   ]
  },
  {
   "cell_type": "markdown",
   "id": "c1cb1220-7a67-4742-9ceb-f6fbfa7695da",
   "metadata": {},
   "source": [
    "Now we input some LES settings. First is the buffer we want to have around each box. This is very similar to the `extent` values from before, but note the difference for the high-res boxes.\n",
    "Next, we input the limits of your domain, in the same fashion as done in AMR-Wind. The variable names here reflect exactly how they are given in AMR-Wind to avoid issues. We give the domain limits and the maximum level available in your simulation. Then, we need to choose on which level do we want to sample each of the boxes-- this is important as it places the sampling point right in the middle of the cell center (avoids spatial interpolation). It is expected that the low-res will be sampled from a lower level (lower spatial resolution), and the high-res from the highest level available."
   ]
  },
  {
   "cell_type": "code",
   "execution_count": null,
   "id": "3cd74450-9ad1-4caa-8fb5-851e394d59d4",
   "metadata": {},
   "outputs": [],
   "source": [
    "\n",
    "# ----------- Low- and high-res boxes parameters. Note the buffer for high-res is given as hand the extent.\n",
    "buffer_lr = [1.5,2,1.5,1.5,2] # [xmin,xmax,ymin,ymax,zmax], in D\n",
    "buffer_hr = 0.6\n",
    "\n",
    "\n",
    "# -----------------------------------------------------------------------------\n",
    "# ------------------------- AMR-Wind parameters -------------------------------\n",
    "# -----------------------------------------------------------------------------\n",
    "fixed_dt = 0.01\n",
    "prob_lo =  (0,     0,   0  )\n",
    "prob_hi =  (5120, 2560, 960) \n",
    "n_cell  =  (128, 64, 24)   # 40,40,40 m resolution at level 0\n",
    "max_level = 3\n",
    "\n",
    "incflo_velocity_hh = (8,0,0) \n",
    "postproc_name = 'box'\n",
    "\n",
    "# Levels of each box\n",
    "level_lr=2\n",
    "level_hr=3"
   ]
  },
  {
   "cell_type": "code",
   "execution_count": null,
   "id": "c70bb08f-b903-431a-89b5-95e1ad504cb0",
   "metadata": {},
   "outputs": [],
   "source": [
    "# The errors thrown tend to be verbose and tell the user what to do. Uncomment this line for an example of an error when the low-res now spans outside the domain:\n",
    "# buffer_lr = [2.5,6,2.5,2.5,2]"
   ]
  },
  {
   "cell_type": "markdown",
   "id": "fc65e5ea-5992-4c9f-9a32-f961d3958383",
   "metadata": {},
   "source": [
    "Upon calling the constructor of AMRWindSimulation, several errors will be thrown if your inputs have issues. Some common errors are:\n",
    "- if the limits of the computed boxes are outside your domain\n",
    "- if you don't have enough spatial resolution on your LES to accomodate the required spatial resolutions\n",
    "- if you request a box at a level that is higher than the max_level\n",
    "\n",
    "Note that you can give the AMR-Wind class below your resolutions already computed using example 1 or you can let it compute for you and you can iterate the same way. Internally, the very same function is called.\n",
    "\n",
    "Some warnings may also be printed:\n",
    "- If the user request a certain box resolution that does not fit the underlying LES resolution such that the points cannot be placed on the cell centers.\n",
    "\n",
    "For the sake of illustration, let's start with the resolutions we computed previously. However, our LES grid is 40 m resolution at level 0, and the low-res sits at level 2, which means at level 2 (where the low-res box sits), the local resolution is 10x10x10 m which does not fit the 25 m low-res resolution. See how clear the warning is. It is just a warning because you can still sample your LES like that and perform the interpolated sampling; it is just suggested the user avoids interpolation."
   ]
  },
  {
   "cell_type": "code",
   "execution_count": null,
   "id": "2c5b3149-5362-424a-babc-3300fcab4b1d",
   "metadata": {},
   "outputs": [],
   "source": [
    "\n",
    "\n",
    "amr = AMRWindSimulation(wts, fixed_dt, prob_lo, prob_hi,\n",
    "                        n_cell, max_level, incflo_velocity_hh,\n",
    "                        postproc_name, buffer_lr = buffer_lr, buffer_hr=buffer_hr,\n",
    "                        ds_hr=5,\n",
    "                        ds_lr=10,\n",
    "                        dt_hr=0.1,\n",
    "                        dt_lr=0.4,\n",
    "                        mod_wake=mod_wake,\n",
    "                        level_lr=level_lr, level_hr=level_hr)"
   ]
  },
  {
   "cell_type": "code",
   "execution_count": null,
   "id": "f498f654-793d-4bd5-b288-3163dfadabff",
   "metadata": {},
   "outputs": [],
   "source": [
    "ds_hr = 5\n",
    "ds_lr = 25\n",
    "dt_hr = 0.25\n",
    "dt_lr = 1.00\n",
    "\n",
    "amr = AMRWindSimulation(wts, fixed_dt, prob_lo, prob_hi,\n",
    "                        n_cell, max_level, incflo_velocity_hh,\n",
    "                        postproc_name, buffer_lr = buffer_lr, buffer_hr=buffer_hr,\n",
    "                        ds_hr=ds_hr, ds_lr=ds_lr, dt_hr=dt_hr, dt_lr=dt_lr,\n",
    "                        mod_wake=mod_wake, level_lr=level_lr, level_hr=level_hr)\n",
    "\n"
   ]
  },
  {
   "cell_type": "code",
   "execution_count": null,
   "id": "3eef11ec-7caa-427e-8a00-cdd5995ab246",
   "metadata": {
    "scrolled": true,
    "tags": []
   },
   "outputs": [],
   "source": [
    "# at any moment, you can print the object to see more information:\n",
    "print(amr)"
   ]
  },
  {
   "cell_type": "markdown",
   "id": "e41d846d-1141-4a93-8a90-545976701fd3",
   "metadata": {},
   "source": [
    "Let's now change the resolution. Alternatively, we could change our LES grid."
   ]
  },
  {
   "cell_type": "code",
   "execution_count": null,
   "id": "90630ea8-3f05-4af4-a9a0-f0e8fd5fa9be",
   "metadata": {},
   "outputs": [],
   "source": [
    "ds_hr = 5\n",
    "ds_lr = 20\n",
    "dt_hr = 0.25\n",
    "dt_lr = 1.00\n",
    "\n",
    "amr = AMRWindSimulation(wts, fixed_dt, prob_lo, prob_hi,\n",
    "                        n_cell, max_level, incflo_velocity_hh,\n",
    "                        postproc_name, buffer_lr = buffer_lr, buffer_hr=buffer_hr,\n",
    "                        ds_hr=ds_hr, ds_lr=ds_lr, dt_hr=dt_hr, dt_lr=dt_lr,\n",
    "                        mod_wake=mod_wake, level_lr=level_lr, level_hr=level_hr)\n",
    "\n"
   ]
  },
  {
   "cell_type": "markdown",
   "id": "d5571832-0648-4810-91f8-9ff445141561",
   "metadata": {},
   "source": [
    "Finally, notice how the initial dt from the LES was very small. That was to allow the computed temporal resolutions to be anything, not putting restrictions on them being multiple of the LES. After you execute this call a few times, you should go back and set the dt to a more realistic value ensuring the boxes are still saved at the desired resolution."
   ]
  },
  {
   "cell_type": "code",
   "execution_count": null,
   "id": "80b99a25-ab9f-4545-a751-1f253268b287",
   "metadata": {
    "scrolled": true,
    "tags": []
   },
   "outputs": [],
   "source": [
    "# Finally, write the input file to disk (or screen):\n",
    "\n",
    "amr.write_sampling_params(terrain=False)  # write to screen\n",
    "\n",
    "# amr.write_sampling_params(out='/your/full/path', format='native', terrain=False)"
   ]
  },
  {
   "cell_type": "markdown",
   "id": "63fae93a-51c5-498b-9274-1d982d016e46",
   "metadata": {},
   "source": [
    "## 4.2. Changing specific variables on all cases\n",
    "This is just an example on how the loop through all the files work. Here I add some specific sampling to be done on all cases"
   ]
  },
  {
   "cell_type": "code",
   "execution_count": null,
   "id": "ead02889-dba6-4574-8ebe-e310536f93b8",
   "metadata": {},
   "outputs": [],
   "source": [
    "# Shown within the example 2 above with the sampling and changes to AeroDyn"
   ]
  },
  {
   "cell_type": "markdown",
   "id": "63974568-8769-4e1a-95f1-fa7b2933d8de",
   "metadata": {},
   "source": [
    "# 5. Some post-processing"
   ]
  },
  {
   "cell_type": "code",
   "execution_count": null,
   "id": "1df8ae3a-eb71-4445-8625-7a4c08bf17f9",
   "metadata": {},
   "outputs": [],
   "source": [
    "# Let's load the object of the case we executed until the end\n",
    "from openfast_toolbox.fastfarm.FASTFarmCaseCreation import load\n",
    "path = '/projects/tcwnd/rthedin/fastfarm/ff_workshop_nawea2025/ff_examples_ex2a'\n",
    "ff = load(path)"
   ]
  },
  {
   "cell_type": "code",
   "execution_count": null,
   "id": "ed97a9b6-104d-4da5-a6d9-ddb777e22e57",
   "metadata": {},
   "outputs": [],
   "source": [
    "from openfast_toolbox.fastfarm.postpro.ff_postpro import readTurbineOutput, readTurbineOutputPar, readFFPlanes, readFFPlanesPar\n",
    "\n",
    "# There are serial and parallel versions of the functions to read turbine data and vtk slices."
   ]
  },
  {
   "cell_type": "code",
   "execution_count": null,
   "id": "4b0402df-8710-4506-b345-565f8fc0b865",
   "metadata": {},
   "outputs": [],
   "source": [
    "# Let's read all the turbine data, but we don't need the results at the full resolution.\n",
    "dt_openfast = 0.01\n",
    "dt_processing = 0.1\n",
    "\n",
    "ds_turbs = readTurbineOutput(ff, dt_openfast, dt_processing, output='nc')"
   ]
  },
  {
   "cell_type": "code",
   "execution_count": null,
   "id": "36834634-120d-40d1-b45d-43b8ccff85fa",
   "metadata": {},
   "outputs": [],
   "source": [
    "# Let's get the planes of data\n",
    "ds_planes = readFFPlanesPar(ff, sliceToRead='z', saveOutput=False, itime=0, ftime=-1, nCores=36)"
   ]
  },
  {
   "cell_type": "code",
   "execution_count": null,
   "id": "27b8f86b-01fb-439b-bd30-0ad156902101",
   "metadata": {},
   "outputs": [],
   "source": [
    "# Mean power across the seeds and the simulation time can easily be obtained with:\n",
    "ds_turbs.mean(dim=['seed','time'])['RotPwr_[kW]']\n",
    "\n",
    "# (note that this is a dummy 100-s simulation and the data is still in its transient)"
   ]
  },
  {
   "cell_type": "code",
   "execution_count": null,
   "id": "f3809663-b592-428d-b0d3-a139c7c76a26",
   "metadata": {},
   "outputs": [],
   "source": [
    "import matplotlib.pyplot as plt\n",
    "\n",
    "xx, yy = np.meshgrid(ds_planes.x, ds_planes.y, indexing='ij')\n",
    "\n",
    "fig, ax = plt.subplots(1,1,figsize=(10,5))\n",
    "cm = ax.pcolormesh(xx, yy, ds_planes.squeeze()['u'].mean(dim=['time','seed']))\n",
    "fig.colorbar(cm)\n",
    "ax.set_aspect('equal')"
   ]
  },
  {
   "cell_type": "code",
   "execution_count": null,
   "id": "8849aaf7-71db-461b-a7d0-6feea05ae32d",
   "metadata": {},
   "outputs": [],
   "source": [
    "fig, ax = plt.subplots(1,1,figsize=(10,5))\n",
    "\n",
    "cm = ax.pcolormesh(xx, yy, ds_planes.squeeze()['u'].isel(time=-1,seed=0))\n",
    "fig.colorbar(cm)\n",
    "ax.set_aspect('equal')"
   ]
  },
  {
   "cell_type": "code",
   "execution_count": null,
   "id": "223f4fd4-0e25-4851-98e4-5e4bcd49a032",
   "metadata": {},
   "outputs": [],
   "source": []
  }
 ],
 "metadata": {
  "kernelspec": {
   "display_name": "Python 3 (ipykernel)",
   "language": "python",
   "name": "python3"
  },
  "language_info": {
   "codemirror_mode": {
    "name": "ipython",
    "version": 3
   },
   "file_extension": ".py",
   "mimetype": "text/x-python",
   "name": "python",
   "nbconvert_exporter": "python",
   "pygments_lexer": "ipython3",
   "version": "3.13.4"
  }
 },
 "nbformat": 4,
 "nbformat_minor": 5
}
