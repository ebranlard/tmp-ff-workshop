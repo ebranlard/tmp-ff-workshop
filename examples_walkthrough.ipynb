{
 "cells": [
  {
   "cell_type": "code",
   "execution_count": null,
   "id": "dda16bbb-abd4-464a-942a-134762af1fea",
   "metadata": {},
   "outputs": [],
   "source": [
    "%load_ext autoreload\n",
    "%autoreload 2"
   ]
  },
  {
   "cell_type": "code",
   "execution_count": null,
   "id": "6b91f92f-60c9-47df-a9d7-5833c2c4e6ff",
   "metadata": {},
   "outputs": [],
   "source": [
    "from openfast_toolbox.fastfarm.FASTFarmCaseCreation import FFCaseCreation"
   ]
  },
  {
   "cell_type": "code",
   "execution_count": null,
   "id": "a499e22a-6e22-4e74-a9f4-ec6c355c72f2",
   "metadata": {},
   "outputs": [],
   "source": [
    "# Pre-requisites\n",
    "# - ROSCO libdiscon shared object (ROSCO build)\n",
    "\n",
    "# Notes\n",
    "# - Note how some inputs (ED, SD, turbine fst) are giving with the string ending in `*.T` and the actual filename inside `templatePath` is `*.T.<ext>` where `<ext>` is either `dat` or `fst`.\n",
    "# - I will explain directory structure on the slides\n"
   ]
  },
  {
   "cell_type": "markdown",
   "id": "4a66165e-3799-46c8-b38f-ca45ca4dc8a8",
   "metadata": {
    "tags": []
   },
   "source": [
    "# Example 1: `Ex1_FASTFarm_discretization.py`\n",
    "\n",
    "This example calculates the desired temporal and spatial resolution given wind farm. The next two cells are exactly what is on the python script. I run this a few times as described below."
   ]
  },
  {
   "cell_type": "code",
   "execution_count": null,
   "id": "564cc519-f5d7-418e-a207-631284e7bf1c",
   "metadata": {},
   "outputs": [],
   "source": [
    "# -----------------------------------------------------------------------------\n",
    "# USER INPUT: Modify these\n",
    "# -----------------------------------------------------------------------------\n",
    "\n",
    "# -----------------------------------------------------------------------------\n",
    "# ------------------------ General parameters ---------------------------------\n",
    "# -----------------------------------------------------------------------------\n",
    "\n",
    "# ----------- Case absolute path\n",
    "path = '/projects/tcwnd/rthedin/fastfarm/ff_workshop_nawea2025/ff_examples_ex1'\n",
    "\n",
    "# ----------- Execution parameters\n",
    "# If you are sure the correct binaries are first on your $PATH and associated\n",
    "# libraries on $LD_LIBRARY_PATH, you can set the variables below to None or\n",
    "# remove them from the `FFCaseCreation` call\n",
    "ffbin = '/projects/tcwnd/rthedin/repos/openfast_v4.1.1/build/install/bin/FAST.Farm'\n",
    "tsbin = '/projects/tcwnd/rthedin/repos/openfast_v4.1.1/build/install/bin/turbsim'\n",
    "\n",
    "\n",
    "# -----------------------------------------------------------------------------\n",
    "# --------------------------- Farm parameters ---------------------------------\n",
    "# -----------------------------------------------------------------------------\n",
    "\n",
    "# ----------- General turbine parameters\n",
    "cmax     = 5      # Maximum blade chord (m)\n",
    "fmax     = 10/6   # Maximum excitation frequency (Hz)\n",
    "Cmeander = 1.9    # Meandering constant (-)\n",
    "D = 240           # Rotor diameter (m)\n",
    "zhub = 150        # Hub height (m)\n",
    "\n",
    "# ----------- Wind farm\n",
    "# The wts dictionary holds information of each wind turbine. The allowed entries\n",
    "# are: x, y, z, D, zhub, cmax, fmax, Cmeander, and phi_deg. The phi_deg is the\n",
    "# only entry that is optional and is related to floating platform heading angle,\n",
    "# given in degrees. The angle phi_deg is not illustrated on the example below.\n",
    "wts = {\n",
    "    0 :{'x': 500.0, 'y': 480, 'z':0.0, 'D':D, 'zhub':zhub, 'cmax':cmax, 'fmax':fmax, 'Cmeander':Cmeander, 'name':'T1'},\n",
    "    1 :{'x':1100.0, 'y': 480, 'z':0.0, 'D':D, 'zhub':zhub, 'cmax':cmax, 'fmax':fmax, 'Cmeander':Cmeander, 'name':'T2'},\n",
    "    2 :{'x':1800.0, 'y': 480, 'z':0.0, 'D':D, 'zhub':zhub, 'cmax':cmax, 'fmax':fmax, 'Cmeander':Cmeander, 'name':'T3'},\n",
    "    3 :{'x': 500.0, 'y':1200, 'z':0.0, 'D':D, 'zhub':zhub, 'cmax':cmax, 'fmax':fmax, 'Cmeander':Cmeander, 'name':'T4'},\n",
    "    4 :{'x':1100.0, 'y':1200, 'z':0.0, 'D':D, 'zhub':zhub, 'cmax':cmax, 'fmax':fmax, 'Cmeander':Cmeander, 'name':'T5'},\n",
    "    5 :{'x':1800.0, 'y':1200, 'z':0.0, 'D':D, 'zhub':zhub, 'cmax':cmax, 'fmax':fmax, 'Cmeander':Cmeander, 'name':'T6'},\n",
    "}\n",
    "refTurb_rot = 0\n",
    "\n",
    "# ----------- Turbine parameters\n",
    "# Set the yaw of each turbine for wind dir. One row for each wind direction.\n",
    "yaw_init = None\n",
    "\n",
    "\n",
    "# -----------------------------------------------------------------------------\n",
    "# ------------------- Inflow conditions and input files -----------------------\n",
    "# -----------------------------------------------------------------------------\n",
    "\n",
    "# ----------- Additional variables\n",
    "tmax = 100      # Total simulation time\n",
    "nSeeds = 6      # Number of seeds\n",
    "zbot = 1        # Bottom of your domain\n",
    "mod_wake = 2    # Wake model. 1: Polar, 2: Curled, 3: Cartesian\n",
    "\n",
    "# ----------- Inflow parameters\n",
    "inflowType = 'TS'\n",
    "\n",
    "# ----------- Desired sweeps\n",
    "vhub       = [8]\n",
    "shear      = [0.1]\n",
    "TIvalue    = [10]\n",
    "inflow_deg = [0]\n",
    "\n",
    "# ----------- Template files\n",
    "templatePath = '/projects/tcwnd/rthedin/fastfarm/ff_workshop_nawea2025/tutorial_files'\n",
    "# Files should be in templatePath. Put None on any input that is not applicable.\n",
    "templateFiles = {\n",
    "    \"EDfilename\"              : 'IEA-15-240-RWT-Monopile_ElastoDyn.T',\n",
    "    'SrvDfilename'            : 'IEA-15-240-RWT-Monopile_ServoDyn.T',\n",
    "    'ADfilename'              : 'IEA-15-240-RWT-Monopile_AeroDyn15.dat',\n",
    "    'ADbladefilename'         : 'IEA-15-240-RWT_AeroDyn15_blade.dat',\n",
    "    'IWfilename'              : 'IW_WT.dat',\n",
    "    'EDbladefilename'         : 'IEA-15-240-RWT_ElastoDyn_blade.dat',\n",
    "    'EDtowerfilename'         : 'IEA-15-240-RWT-Monopile_ElastoDyn_tower.dat',\n",
    "    'turbfilename'            : 'IEA-15-240-RWT-Monopile.T',\n",
    "    'libdisconfilepath'       : '/projects/tcwnd/rthedin/repos/ROSCO_v2.9.5/rosco/controller/build/libdiscon.so',\n",
    "    'controllerInputfilename' : 'IEA-15-240-RWT-Monopile_DISCON_ROSCOv2.9.IN',\n",
    "    'FFfilename'              : 'FAST.Farm.fstf',\n",
    "    'turbsimLowfilepath'      : '/home/rthedin/repos/openfast_toolbox/openfast_toolbox/fastfarm/examples/SampleFiles/template_Low_InflowXX_SeedY.inp',\n",
    "    'turbsimHighfilepath'     : '/home/rthedin/repos/openfast_toolbox/openfast_toolbox/fastfarm/examples/SampleFiles/template_HighT1_InflowXX_SeedY.inp'\n",
    "}\n",
    "# SLURM scripts\n",
    "slurm_TS_high           = '/home/rthedin/repos/openfast_toolbox/openfast_toolbox/fastfarm/examples/SampleFiles/runAllHighBox.sh'\n",
    "slurm_TS_low            = '/home/rthedin/repos/openfast_toolbox/openfast_toolbox/fastfarm/examples/SampleFiles/runAllLowBox.sh'\n",
    "slurm_FF_single         = '/home/rthedin/repos/openfast_toolbox/openfast_toolbox/fastfarm/examples/SampleFiles/runFASTFarm_cond0_case0_seed0.sh'\n",
    "\n",
    "\n",
    "# -----------------------------------------------------------------------------\n",
    "# ---------------------- Discretization parameters ----------------------------\n",
    "# -----------------------------------------------------------------------------\n",
    "# Let's start with no knowledge of what resolution we should use.\n",
    "\n",
    "# ----------- Low- and high-res boxes parameters\n",
    "# High-res boxes settings\n",
    "dt_high     = None   # sampling frequency of high-res files\n",
    "ds_high     = None   # dx, dy, dz of high-res files\n",
    "extent_high = None   # extent in y and x for each turbine, in D\n",
    "# Low-res boxes settings\n",
    "dt_low      = None   # sampling frequency of low-res files\n",
    "ds_low      = None   # dx, dy, dz of low-res files\n",
    "extent_low  = None   # extent in [xmin,xmax,ymin,ymax,zmax], in D\n",
    "\n",
    "\n",
    "# -----------------------------------------------------------------------------\n",
    "# END OF USER INPUT\n",
    "# -----------------------------------------------------------------------------"
   ]
  },
  {
   "cell_type": "code",
   "execution_count": null,
   "id": "0adfc1eb-f406-4994-9e99-1f4955d06445",
   "metadata": {},
   "outputs": [],
   "source": [
    "# -----------------------------------------------------------------------------\n",
    "# -------------------- FAST.Farm initial setup --------------------------------\n",
    "# -----------------------------------------------------------------------------\n",
    "# ----------- Initial setup\n",
    "# The initial setup with the temporal and spatial resolutions of both high and\n",
    "# low resolution boxes given as None will trigger their automatic computation.\n",
    "amr = FFCaseCreation(path, wts, tmax, zbot, vhub, shear, TIvalue, inflow_deg,\n",
    "                     dt_high=dt_high, ds_high=ds_high, extent_high=extent_high,\n",
    "                     dt_low=dt_low,   ds_low=ds_low,   extent_low=extent_low,\n",
    "                     ffbin=ffbin, mod_wake=mod_wake, yaw_init=yaw_init,\n",
    "                     nSeeds=nSeeds, tsbin=tsbin, inflowType=inflowType,\n",
    "                     refTurb_rot=refTurb_rot, verbose=0)"
   ]
  },
  {
   "cell_type": "markdown",
   "id": "d7ca017d-0f90-486c-bb79-edd8a3524d5d",
   "metadata": {},
   "source": [
    "The call to `FFCaseCreation` with all the resolutions as `None` triggers the lengthy message above. From there, we can just check if those numbers make sense given the available computational resources. Highlight the warning printed with further instructions. Also, note that `dt_high=0.3` is a just a consequence of the value I put as `fmax`, which isn't the actual maximum exitation frequency of the IEA 15MW. It is slightly more conservative than the (already conservative) 12P excitation frequency of about 1.5Hz. The reason I chose 10/6 is to get a round number for dt_high.\n",
    "\n",
    "In this case, it is saying that the low-res should be 24.32, but since it needs to be a multiple of the high res, then it automatically selects 20 m. However, since 24.32 is close to 25, sometimes we might want to just run at 25. Then, an option is to re-run the same command, but now passing such a value (see warning above):"
   ]
  },
  {
   "cell_type": "code",
   "execution_count": null,
   "id": "d050827e-5bc7-4d15-a44d-256a9a5b46c3",
   "metadata": {},
   "outputs": [],
   "source": [
    "ds_low      = 25\n",
    "\n",
    "# -----------------------------------------------------------------------------\n",
    "# -------------------- FAST.Farm initial setup --------------------------------\n",
    "# -----------------------------------------------------------------------------\n",
    "# ----------- Initial setup\n",
    "# The initial setup with the temporal and spatial resolutions of both high and\n",
    "# low resolution boxes given as None will trigger their automatic computation.\n",
    "amr = FFCaseCreation(path, wts, tmax, zbot, vhub, shear, TIvalue, inflow_deg,\n",
    "                     dt_high=dt_high, ds_high=ds_high, extent_high=extent_high,\n",
    "                     dt_low=dt_low,   ds_low=ds_low,   extent_low=extent_low,\n",
    "                     ffbin=ffbin, mod_wake=mod_wake, yaw_init=yaw_init,\n",
    "                     nSeeds=nSeeds, tsbin=tsbin, inflowType=inflowType,\n",
    "                     refTurb_rot=refTurb_rot, verbose=0)"
   ]
  },
  {
   "cell_type": "markdown",
   "id": "e7d421da-469b-4cd0-974f-f1b828952b37",
   "metadata": {},
   "source": [
    "Note how now the low-res grid resolution is set to 25 m. We can do the same with the dt if we want. Let's say we want the time steps of the low to be a more round number, we can set both dts:"
   ]
  },
  {
   "cell_type": "code",
   "execution_count": null,
   "id": "290a3ba4-7f20-4114-bd3b-c0fd6d2b711c",
   "metadata": {},
   "outputs": [],
   "source": [
    "dt_high     = 0.25\n",
    "dt_low      = 1.00 \n",
    "ds_low      = 25\n",
    "\n",
    "# -----------------------------------------------------------------------------\n",
    "# -------------------- FAST.Farm initial setup --------------------------------\n",
    "# -----------------------------------------------------------------------------\n",
    "# ----------- Initial setup\n",
    "# The initial setup with the temporal and spatial resolutions of both high and\n",
    "# low resolution boxes given as None will trigger their automatic computation.\n",
    "amr = FFCaseCreation(path, wts, tmax, zbot, vhub, shear, TIvalue, inflow_deg,\n",
    "                     dt_high=dt_high, ds_high=ds_high, extent_high=extent_high,\n",
    "                     dt_low=dt_low,   ds_low=ds_low,   extent_low=extent_low,\n",
    "                     ffbin=ffbin, mod_wake=mod_wake, yaw_init=yaw_init,\n",
    "                     nSeeds=nSeeds, tsbin=tsbin, inflowType=inflowType,\n",
    "                     refTurb_rot=refTurb_rot, verbose=0)"
   ]
  },
  {
   "cell_type": "markdown",
   "id": "0fb39419-50b4-4871-851b-275bd091312c",
   "metadata": {},
   "source": [
    "This ends the illustration of the first example. Now we can move forward with the FAST.Farm setup using two options:\n",
    "\n",
    "1. Use directly the `amr` object:\n",
    "```\n",
    "# ----------- Low- and high-res boxes parameters\n",
    "# High-res boxes settings\n",
    "dt_high     = amr.dt_high\n",
    "ds_high     = amr.ds_high\n",
    "extent_high = amr.extent_high\n",
    "# Low-res boxes settings\n",
    "dt_low      = amr.dt_low\n",
    "ds_low      = amr.ds_low\n",
    "extent_low  = amr.extent_low\n",
    "```\n",
    "\n",
    "2. Manually add those values to their corresponding variables:\n",
    "```\n",
    "# ----------- Low- and high-res boxes parameters\n",
    "# High-res boxes settings\n",
    "dt_high     =  0.25               \n",
    "ds_high     =  5                 \n",
    "extent_high =  1.2               \n",
    "# Low-res boxes settings\n",
    "dt_low      = 1.0                  \n",
    "ds_low      = 25                 \n",
    "extent_low  = [1.5,2.5,1.5,1.5,2]\n",
    "\n",
    "```"
   ]
  },
  {
   "cell_type": "code",
   "execution_count": null,
   "id": "0871edd7-9085-4ea3-b779-bd19f7a503d1",
   "metadata": {},
   "outputs": [],
   "source": [
    "# Note you can always print the object and get some information about the farm and the set of cases that will be setup:\n",
    "print(amr)"
   ]
  },
  {
   "cell_type": "markdown",
   "id": "6770dc37-cd9a-492e-a1bd-d1f7f520b6fb",
   "metadata": {},
   "source": [
    "# Example 2: `Ex2a_FASTFarm_TurbSim_driven.py`\n",
    "\n",
    "The example 2 for TurbSim has the very same initial setup. The cell below is a copy of the first cell of _Example 1_, except that the discretization values are now populated"
   ]
  },
  {
   "cell_type": "code",
   "execution_count": null,
   "id": "10b77c0c-d734-4144-ae72-0d66a27ce0ed",
   "metadata": {},
   "outputs": [],
   "source": [
    "# -----------------------------------------------------------------------------\n",
    "# USER INPUT: Modify these\n",
    "# -----------------------------------------------------------------------------\n",
    "\n",
    "# -----------------------------------------------------------------------------\n",
    "# ------------------------ General parameters ---------------------------------\n",
    "# -----------------------------------------------------------------------------\n",
    "\n",
    "# ----------- Case absolute path\n",
    "path = '/projects/tcwnd/rthedin/fastfarm/ff_workshop_nawea2025/ff_examples_ex2a'\n",
    "\n",
    "# ----------- Execution parameters\n",
    "# If you are sure the correct binaries are first on your $PATH and associated\n",
    "# libraries on $LD_LIBRARY_PATH, you can set the variables below to None or\n",
    "# remove them from the `FFCaseCreation` call\n",
    "ffbin = '/projects/tcwnd/rthedin/repos/openfast_v4.1.1/build/install/bin/FAST.Farm'\n",
    "tsbin = '/projects/tcwnd/rthedin/repos/openfast_v4.1.1/build/install/bin/turbsim'\n",
    "\n",
    "\n",
    "# -----------------------------------------------------------------------------\n",
    "# --------------------------- Farm parameters ---------------------------------\n",
    "# -----------------------------------------------------------------------------\n",
    "\n",
    "# ----------- General turbine parameters\n",
    "cmax     = 5      # Maximum blade chord (m)\n",
    "fmax     = 10/6   # Maximum excitation frequency (Hz)\n",
    "Cmeander = 1.9    # Meandering constant (-)\n",
    "D = 240           # Rotor diameter (m)\n",
    "zhub = 150        # Hub height (m)\n",
    "\n",
    "# ----------- Wind farm\n",
    "# The wts dictionary holds information of each wind turbine. The allowed entries\n",
    "# are: x, y, z, D, zhub, cmax, fmax, Cmeander, and phi_deg. The phi_deg is the\n",
    "# only entry that is optional and is related to floating platform heading angle,\n",
    "# given in degrees. The angle phi_deg is not illustrated on the example below.\n",
    "wts = {\n",
    "    0 :{'x': 500.0, 'y': 480, 'z':0.0, 'D':D, 'zhub':zhub, 'cmax':cmax, 'fmax':fmax, 'Cmeander':Cmeander, 'name':'T1'},\n",
    "    1 :{'x':1100.0, 'y': 480, 'z':0.0, 'D':D, 'zhub':zhub, 'cmax':cmax, 'fmax':fmax, 'Cmeander':Cmeander, 'name':'T2'},\n",
    "    2 :{'x':1800.0, 'y': 480, 'z':0.0, 'D':D, 'zhub':zhub, 'cmax':cmax, 'fmax':fmax, 'Cmeander':Cmeander, 'name':'T3'},\n",
    "    3 :{'x': 500.0, 'y':1200, 'z':0.0, 'D':D, 'zhub':zhub, 'cmax':cmax, 'fmax':fmax, 'Cmeander':Cmeander, 'name':'T4'},\n",
    "    4 :{'x':1100.0, 'y':1200, 'z':0.0, 'D':D, 'zhub':zhub, 'cmax':cmax, 'fmax':fmax, 'Cmeander':Cmeander, 'name':'T5'},\n",
    "    5 :{'x':1800.0, 'y':1200, 'z':0.0, 'D':D, 'zhub':zhub, 'cmax':cmax, 'fmax':fmax, 'Cmeander':Cmeander, 'name':'T6'},\n",
    "}\n",
    "refTurb_rot = 0\n",
    "\n",
    "# ----------- Turbine parameters\n",
    "# Set the yaw of each turbine for wind dir. One row for each wind direction.\n",
    "yaw_init = None\n",
    "\n",
    "\n",
    "# -----------------------------------------------------------------------------\n",
    "# ------------------- Inflow conditions and input files -----------------------\n",
    "# -----------------------------------------------------------------------------\n",
    "\n",
    "# ----------- Additional variables\n",
    "tmax = 50      # Total simulation time\n",
    "nSeeds = 6      # Number of seeds\n",
    "zbot = 1        # Bottom of your domain\n",
    "mod_wake = 2    # Wake model. 1: Polar, 2: Curled, 3: Cartesian\n",
    "\n",
    "# ----------- Inflow parameters\n",
    "inflowType = 'TS'\n",
    "\n",
    "# ----------- Desired sweeps\n",
    "vhub       = [8]\n",
    "shear      = [0.1]\n",
    "TIvalue    = [10]\n",
    "inflow_deg = [0]\n",
    "\n",
    "# ----------- Template files\n",
    "templatePath = '/projects/tcwnd/rthedin/fastfarm/ff_workshop_nawea2025/tutorial_files'\n",
    "# Files should be in templatePath. Put None on any input that is not applicable.\n",
    "templateFiles = {\n",
    "    \"EDfilename\"              : 'IEA-15-240-RWT-Monopile_ElastoDyn.T',\n",
    "    'SrvDfilename'            : 'IEA-15-240-RWT-Monopile_ServoDyn.T',\n",
    "    'ADfilename'              : 'IEA-15-240-RWT-Monopile_AeroDyn15.dat',\n",
    "    'ADbladefilename'         : 'IEA-15-240-RWT_AeroDyn15_blade.dat',\n",
    "    'IWfilename'              : 'IW_WT.dat',\n",
    "    'EDbladefilename'         : 'IEA-15-240-RWT_ElastoDyn_blade.dat',\n",
    "    'EDtowerfilename'         : 'IEA-15-240-RWT-Monopile_ElastoDyn_tower.dat',\n",
    "    'turbfilename'            : 'IEA-15-240-RWT-Monopile.T',\n",
    "    'libdisconfilepath'       : '/projects/tcwnd/rthedin/repos/ROSCO_v2.9.5/rosco/controller/build/libdiscon.so',\n",
    "    'controllerInputfilename' : 'IEA-15-240-RWT-Monopile_DISCON_ROSCOv2.9.IN',\n",
    "    'FFfilename'              : 'FAST.Farm.fstf',\n",
    "    'turbsimLowfilepath'      : '/home/rthedin/repos/openfast_toolbox/openfast_toolbox/fastfarm/examples/SampleFiles/template_Low_InflowXX_SeedY.inp',\n",
    "    'turbsimHighfilepath'     : '/home/rthedin/repos/openfast_toolbox/openfast_toolbox/fastfarm/examples/SampleFiles/template_HighT1_InflowXX_SeedY.inp'\n",
    "}\n",
    "# SLURM scripts\n",
    "slurm_TS_high           = '/home/rthedin/repos/openfast_toolbox/openfast_toolbox/fastfarm/examples/SampleFiles/runAllHighBox.sh'\n",
    "slurm_TS_low            = '/home/rthedin/repos/openfast_toolbox/openfast_toolbox/fastfarm/examples/SampleFiles/runAllLowBox.sh'\n",
    "slurm_FF_single         = '/home/rthedin/repos/openfast_toolbox/openfast_toolbox/fastfarm/examples/SampleFiles/runFASTFarm_cond0_case0_seed0.sh'\n",
    "\n",
    "\n",
    "# -----------------------------------------------------------------------------\n",
    "# ---------------------- Discretization parameters ----------------------------\n",
    "# -----------------------------------------------------------------------------\n",
    "# ----------- Low- and high-res boxes parameters\n",
    "# High-res boxes settings\n",
    "dt_high     =  0.25               # sampling frequency of high-res files\n",
    "ds_high     =  5                  # dx, dy, dz of high-res files\n",
    "extent_high =  1.2                # extent in y and x for each turbine, in D\n",
    "# Low-res boxes settings\n",
    "dt_low      = 1.0                 # sampling frequency of low-res files\n",
    "ds_low      = 25                  # dx, dy, dz of low-res files\n",
    "extent_low  = [1.5,2.5,1.5,1.5,2] # extent in [xmin,xmax,ymin,ymax,zmax], in D\n",
    "\n",
    "\n",
    "# -----------------------------------------------------------------------------\n",
    "# END OF USER INPUT\n",
    "# -----------------------------------------------------------------------------"
   ]
  },
  {
   "cell_type": "markdown",
   "id": "d0cd6f3f-996c-4e81-afd0-741fe4dce9f0",
   "metadata": {},
   "source": [
    "(Setting verbose to 1 on the call below:)"
   ]
  },
  {
   "cell_type": "code",
   "execution_count": null,
   "id": "448b7001-60fd-4234-9d72-939bec7415a9",
   "metadata": {},
   "outputs": [],
   "source": [
    "# -----------------------------------------------------------------------------\n",
    "# -------------------- FAST.Farm initial setup --------------------------------\n",
    "# -----------------------------------------------------------------------------\n",
    "# ----------- Initial setup\n",
    "ffcase = FFCaseCreation(path, wts, tmax, zbot, vhub, shear, TIvalue, inflow_deg,\n",
    "                        dt_high=dt_high, ds_high=ds_high, extent_high=extent_high,\n",
    "                        dt_low=dt_low,   ds_low=ds_low,   extent_low=extent_low,\n",
    "                        ffbin=ffbin, mod_wake=mod_wake, yaw_init=yaw_init,\n",
    "                        nSeeds=nSeeds, tsbin=tsbin, inflowType=inflowType,\n",
    "                        refTurb_rot=refTurb_rot, verbose=1)\n",
    "\n",
    "# ----------- Perform auxiliary steps in preparing the case\n",
    "ffcase.setTemplateFilename(templatePath, templateFiles)\n",
    "ffcase.getDomainParameters()\n",
    "ffcase.copyTurbineFilesForEachCase()"
   ]
  },
  {
   "cell_type": "markdown",
   "id": "2accd628-6fdd-4fce-9714-1ea7f9ce0dc3",
   "metadata": {},
   "source": [
    "There are a few things the user can look at to check the setup. One of them, as mentioned is to print the object. Others are to print the datasets that hold the information for all the cases:"
   ]
  },
  {
   "cell_type": "code",
   "execution_count": null,
   "id": "e53dbe32-f045-4cc0-9633-510c9e008c58",
   "metadata": {},
   "outputs": [],
   "source": [
    "ffcase.allCases"
   ]
  },
  {
   "cell_type": "markdown",
   "id": "4eefab1b-d9df-4dd8-b2df-2cfb3bdc87a2",
   "metadata": {},
   "source": [
    "You have easy access to information related to your case. This FAST.Farm setup is for a single condition with a single case, so this array is simple. Will show later more complex cases and how to pick out information from the array above.\n",
    "\n",
    "You can also plot your setup. On the plot, the extents set previously become clear. See how the `extent_low` related to xmax is larger than the others."
   ]
  },
  {
   "cell_type": "code",
   "execution_count": null,
   "id": "e79bad9e-53ca-45ef-b39d-91e70034024c",
   "metadata": {},
   "outputs": [],
   "source": [
    "ffcase.plot()  # add showTurbNumber=True to help with potential debugging\n",
    "# The plot command above saves the images to the case root `ffcase.path`"
   ]
  },
  {
   "cell_type": "markdown",
   "id": "717686bd-ee71-4d4c-8c78-f9d01eed4843",
   "metadata": {},
   "source": [
    "Now comes the main part, which is the turbsim setup. The third call is commented out since you won't be doing this from an HPC."
   ]
  },
  {
   "cell_type": "code",
   "execution_count": null,
   "id": "eb9c0798-8f78-4d32-afdc-058ee24a9267",
   "metadata": {},
   "outputs": [],
   "source": [
    "# -----------------------------------------------------------------------------\n",
    "# ---------------------- TurbSim setup and execution --------------------------\n",
    "# -----------------------------------------------------------------------------\n",
    "# ----------- TurbSim low-res setup\n",
    "ffcase.TS_low_setup()\n",
    "# ----------- Prepare script for submission\n",
    "ffcase.TS_low_slurm_prepare(slurm_TS_low)\n",
    "# ----------- Submit the low-res script (can be done from the command line)\n",
    "#ffcase.TS_low_slurm_submit()"
   ]
  },
  {
   "cell_type": "markdown",
   "id": "0d2217e1-3e7d-4a79-b124-c6852ec71b1b",
   "metadata": {},
   "source": [
    "Now, if you go the the directory of this case, `ffcase.path`, you will see a _condition_ directory, the png of the farm above, and a bash script to be submitted to slurm. You can submit it through the command line or you can use the `ffcase.TS_low_slurm_submit()` above. You should open the script and show people what it is doing. Some stuff there (like modules) is given for Kestrel. For someone to use it on their own HPC system, they just need to create new template versions of those and give as inputs through the `slurm_TS_high`, `slurm_TS_low`, and `slurm_FF_single` variables."
   ]
  },
  {
   "cell_type": "code",
   "execution_count": null,
   "id": "5871b206-0b04-445c-87b7-c161f63888fd",
   "metadata": {},
   "outputs": [],
   "source": [
    " # For the sake of illustration here, I'll submit it. Note this calls takes a few key SLURM parameters. (takes about 10s)\n",
    "ffcase.TS_low_slurm_submit(A='shellwind', qos='high', t='0:10:00', p='debug')"
   ]
  },
  {
   "cell_type": "markdown",
   "id": "111c64d3-938c-44ae-9a9b-d201216c18ff",
   "metadata": {},
   "source": [
    "Now with the low-res completed, we can move forward with the high-res. Note that if you try to call `ffcase.TS_high_setup()` before the low-res is done, it will stop when trying to open the low-res box."
   ]
  },
  {
   "cell_type": "code",
   "execution_count": null,
   "id": "131d7786-f0c3-4527-af44-8bf90fc332ae",
   "metadata": {},
   "outputs": [],
   "source": [
    "# ----------- TurbSim high-res setup\n",
    "ffcase.TS_high_setup()\n",
    "# ----------- Prepare script for submission\n",
    "ffcase.TS_high_slurm_prepare(slurm_TS_high)\n",
    "# ----------- Submit the high-res script (can be done from the command line)\n",
    "#ffcase.TS_high_slurm_submit()"
   ]
  },
  {
   "cell_type": "markdown",
   "id": "93d84e68-5f7d-4944-9401-5b637c5898c6",
   "metadata": {},
   "source": [
    "The calls above create the time series to drive the high-res box, taking into account where the turbines are, inclusing the `offset` parameter to TurbSim and also the rolling of the time series, considering how downstream each turbine is."
   ]
  },
  {
   "cell_type": "code",
   "execution_count": null,
   "id": "cd0dd899-f076-4c24-b0c6-91d032c3c186",
   "metadata": {},
   "outputs": [],
   "source": [
    "# Let's run the turbsim boxes. Takes about 3min at the 0.25s temporal res\n",
    "ffcase.TS_high_slurm_submit(A='shellwind', qos='high', t='0:06:00', p='debug')"
   ]
  },
  {
   "cell_type": "markdown",
   "id": "80464167-dc18-490d-a9e7-3050fe2a04dd",
   "metadata": {},
   "source": [
    "After this runs, we can move forward with the FAST.Farm setup. Note how the wake model parameters can be easily set."
   ]
  },
  {
   "cell_type": "code",
   "execution_count": null,
   "id": "2a234130-4c1c-4540-9ec1-3860aa6432db",
   "metadata": {},
   "outputs": [],
   "source": [
    "# -----------------------------------------------------------------------------\n",
    "# ------------------ Finish FAST.Farm setup and execution ---------------------\n",
    "# -----------------------------------------------------------------------------\n",
    "# ----------- FAST.Farm setup\n",
    "ffcase.FF_setup()\n",
    "# Update wake model constants (adjust as needed for your turbine model)\n",
    "ffcase.set_wake_model_params(k_VortexDecay=0, k_vCurl=2.8)\n",
    "\n",
    "# ----------- Prepare script for submission\n",
    "ffcase.FF_slurm_prepare(slurm_FF_single)\n",
    "\n",
    "# ----------- Submit the FAST.Farm script (can be done from the command line)\n",
    "#ffcase.FF_slurm_submit(p='debug', t='1:00:00')"
   ]
  },
  {
   "cell_type": "code",
   "execution_count": null,
   "id": "4e53654b-2a05-4ac2-a2cd-8065169ddb51",
   "metadata": {},
   "outputs": [],
   "source": [
    "# Modify the time step and UA model for this specific case. This also illustrates how to change variables\n",
    "import os\n",
    "from openfast_toolbox.fastfarm.FASTFarmCaseCreation import modifyProperty\n",
    "\n",
    "for cond in range(ffcase.nConditions):\n",
    "    for case in range(ffcase.nCases):\n",
    "        ad_file  = os.path.join(ffcase.path, ffcase.condDirList[cond], ffcase.caseDirList[case], ffcase.ADfilename)\n",
    "        modifyProperty(ad_file, 'UA_Mod', 4)\n",
    "        modifyProperty(ad_file, 'SectAvg', False)\n",
    "        for turb in range(ffcase.nTurbines):\n",
    "            fst_file = os.path.join(ffcase.path, ffcase.condDirList[cond], ffcase.caseDirList[case], f'{ffcase.turbfilename}{turb+1}.fst')\n",
    "            modifyProperty(fst_file, 'DT', 0.001)\n",
    "            "
   ]
  },
  {
   "cell_type": "code",
   "execution_count": null,
   "id": "378a2c59-3505-4c81-a723-652528ec63c7",
   "metadata": {},
   "outputs": [],
   "source": [
    "# We have 6 seeds, so 6 cases. This call will submit each one of them separately. Should take ~5min each.\n",
    "ffcase.FF_slurm_submit(A='shellwind', qos='high', t='1:00:00', p='debug')"
   ]
  },
  {
   "cell_type": "code",
   "execution_count": null,
   "id": "a4c299ac-f226-4eb2-bf69-19308853622d",
   "metadata": {},
   "outputs": [],
   "source": [
    "# We can finally just dump the object to disk so we can re-open another time or for post-processing. It will be saved on the ffcase.path path\n",
    "ffcase.save()"
   ]
  },
  {
   "cell_type": "markdown",
   "id": "a3e5ec0b-a95a-4f9f-b744-7cd13a772b33",
   "metadata": {},
   "source": [
    "This concludes the second example. If the input files were valid (meaning they would not result in a fatal error using OpenFAST), the FAST.Farm simulation would likely be successful here."
   ]
  },
  {
   "cell_type": "markdown",
   "id": "30360063-8447-457f-9380-560fdcda8aec",
   "metadata": {},
   "source": [
    "# 3. More complex setups"
   ]
  },
  {
   "cell_type": "markdown",
   "id": "4cf0c885-1699-4c4d-bb86-220ec7fa73d5",
   "metadata": {
    "tags": []
   },
   "source": [
    "# 3.1 Wind speed and wind dir sweep\n",
    "\n",
    "Let's now try to sweep in some wind speeds and directions."
   ]
  },
  {
   "cell_type": "code",
   "execution_count": null,
   "id": "697cc088-20a3-4abc-b86f-021b5d694fa6",
   "metadata": {},
   "outputs": [],
   "source": [
    "# -----------------------------------------------------------------------------\n",
    "# USER INPUT: Modify these\n",
    "# -----------------------------------------------------------------------------\n",
    "\n",
    "# -----------------------------------------------------------------------------\n",
    "# ------------------------ General parameters ---------------------------------\n",
    "# -----------------------------------------------------------------------------\n",
    "\n",
    "# ----------- Case absolute path\n",
    "path = '/projects/tcwnd/rthedin/fastfarm/ff_workshop_nawea2025/ff_examples_ex2a_widr'\n",
    "\n",
    "# ----------- Execution parameters\n",
    "# If you are sure the correct binaries are first on your $PATH and associated\n",
    "# libraries on $LD_LIBRARY_PATH, you can set the variables below to None or\n",
    "# remove them from the `FFCaseCreation` call\n",
    "ffbin = '/projects/tcwnd/rthedin/repos/openfast_v4.1.1/build/install/bin/FAST.Farm'\n",
    "tsbin = '/projects/tcwnd/rthedin/repos/openfast_v4.1.1/build/install/bin/turbsim'\n",
    "\n",
    "\n",
    "# -----------------------------------------------------------------------------\n",
    "# --------------------------- Farm parameters ---------------------------------\n",
    "# -----------------------------------------------------------------------------\n",
    "\n",
    "# ----------- General turbine parameters\n",
    "cmax     = 5      # Maximum blade chord (m)\n",
    "fmax     = 10/6   # Maximum excitation frequency (Hz)\n",
    "Cmeander = 1.9    # Meandering constant (-)\n",
    "D = 240           # Rotor diameter (m)\n",
    "zhub = 150        # Hub height (m)\n",
    "\n",
    "# ----------- Wind farm\n",
    "# The wts dictionary holds information of each wind turbine. The allowed entries\n",
    "# are: x, y, z, D, zhub, cmax, fmax, Cmeander, and phi_deg. The phi_deg is the\n",
    "# only entry that is optional and is related to floating platform heading angle,\n",
    "# given in degrees. The angle phi_deg is not illustrated on the example below.\n",
    "wts = {\n",
    "    0 :{'x': 500.0, 'y': 480, 'z':0.0, 'D':D, 'zhub':zhub, 'cmax':cmax, 'fmax':fmax, 'Cmeander':Cmeander, 'name':'T1'},\n",
    "    1 :{'x':1100.0, 'y': 480, 'z':0.0, 'D':D, 'zhub':zhub, 'cmax':cmax, 'fmax':fmax, 'Cmeander':Cmeander, 'name':'T2'},\n",
    "    2 :{'x':1800.0, 'y': 480, 'z':0.0, 'D':D, 'zhub':zhub, 'cmax':cmax, 'fmax':fmax, 'Cmeander':Cmeander, 'name':'T3'},\n",
    "    3 :{'x': 500.0, 'y':1200, 'z':0.0, 'D':D, 'zhub':zhub, 'cmax':cmax, 'fmax':fmax, 'Cmeander':Cmeander, 'name':'T4'},\n",
    "    4 :{'x':1100.0, 'y':1200, 'z':0.0, 'D':D, 'zhub':zhub, 'cmax':cmax, 'fmax':fmax, 'Cmeander':Cmeander, 'name':'T5'},\n",
    "    5 :{'x':1800.0, 'y':1200, 'z':0.0, 'D':D, 'zhub':zhub, 'cmax':cmax, 'fmax':fmax, 'Cmeander':Cmeander, 'name':'T6'},\n",
    "}\n",
    "refTurb_rot = 0\n",
    "\n",
    "# ----------- Turbine parameters\n",
    "# Set the yaw of each turbine for wind dir. One row for each wind direction.\n",
    "yaw_init = None\n",
    "\n",
    "\n",
    "# -----------------------------------------------------------------------------\n",
    "# ------------------- Inflow conditions and input files -----------------------\n",
    "# -----------------------------------------------------------------------------\n",
    "\n",
    "# ----------- Additional variables\n",
    "tmax = 100      # Total simulation time\n",
    "nSeeds = 6      # Number of seeds\n",
    "zbot = 1        # Bottom of your domain\n",
    "mod_wake = 2    # Wake model. 1: Polar, 2: Curled, 3: Cartesian\n",
    "\n",
    "# ----------- Inflow parameters\n",
    "inflowType = 'TS'\n",
    "\n",
    "# ----------- Desired sweeps\n",
    "vhub       = [8, 10]\n",
    "shear      = [0.1]\n",
    "TIvalue    = [10]\n",
    "inflow_deg = [-5, 0, 5]\n",
    "\n",
    "\n",
    "# ----------- Template files\n",
    "templatePath = '/projects/tcwnd/rthedin/fastfarm/ff_workshop_nawea2025/tutorial_files'\n",
    "# Files should be in templatePath. Put None on any input that is not applicable.\n",
    "templateFiles = {\n",
    "    \"EDfilename\"              : 'IEA-15-240-RWT-Monopile_ElastoDyn.T',\n",
    "    'SrvDfilename'            : 'IEA-15-240-RWT-Monopile_ServoDyn.T',\n",
    "    'ADfilename'              : 'IEA-15-240-RWT-Monopile_AeroDyn15.dat',\n",
    "    'ADbladefilename'         : 'IEA-15-240-RWT_AeroDyn15_blade.dat',\n",
    "    'IWfilename'              : 'IW_WT.dat',\n",
    "    'EDbladefilename'         : 'IEA-15-240-RWT_ElastoDyn_blade.dat',\n",
    "    'EDtowerfilename'         : 'IEA-15-240-RWT-Monopile_ElastoDyn_tower.dat',\n",
    "    'turbfilename'            : 'IEA-15-240-RWT-Monopile.T',\n",
    "    'libdisconfilepath'       : '/projects/tcwnd/rthedin/repos/ROSCO_v2.9.5/rosco/controller/build/libdiscon.so',\n",
    "    'controllerInputfilename' : 'IEA-15-240-RWT-Monopile_DISCON_ROSCOv2.9.IN',\n",
    "    'FFfilename'              : 'FAST.Farm.fstf',\n",
    "    'turbsimLowfilepath'      : '/home/rthedin/repos/openfast_toolbox/openfast_toolbox/fastfarm/examples/SampleFiles/template_Low_InflowXX_SeedY.inp',\n",
    "    'turbsimHighfilepath'     : '/home/rthedin/repos/openfast_toolbox/openfast_toolbox/fastfarm/examples/SampleFiles/template_HighT1_InflowXX_SeedY.inp'\n",
    "}\n",
    "# SLURM scripts\n",
    "slurm_TS_high           = '/home/rthedin/repos/openfast_toolbox/openfast_toolbox/fastfarm/examples/SampleFiles/runAllHighBox.sh'\n",
    "slurm_TS_low            = '/home/rthedin/repos/openfast_toolbox/openfast_toolbox/fastfarm/examples/SampleFiles/runAllLowBox.sh'\n",
    "slurm_FF_single         = '/home/rthedin/repos/openfast_toolbox/openfast_toolbox/fastfarm/examples/SampleFiles/runFASTFarm_cond0_case0_seed0.sh'\n",
    "\n",
    "\n",
    "# -----------------------------------------------------------------------------\n",
    "# ---------------------- Discretization parameters ----------------------------\n",
    "# -----------------------------------------------------------------------------\n",
    "# ----------- Low- and high-res boxes parameters\n",
    "# High-res boxes settings\n",
    "dt_high     =  0.25               # sampling frequency of high-res files\n",
    "ds_high     =  5                  # dx, dy, dz of high-res files\n",
    "extent_high =  1.2                # extent in y and x for each turbine, in D\n",
    "# Low-res boxes settings\n",
    "dt_low      = 1.0                 # sampling frequency of low-res files\n",
    "ds_low      = 25                  # dx, dy, dz of low-res files\n",
    "extent_low  = [1.5,2.5,1.5,1.5,2] # extent in [xmin,xmax,ymin,ymax,zmax], in D\n",
    "\n",
    "\n",
    "# -----------------------------------------------------------------------------\n",
    "# END OF USER INPUT\n",
    "# -----------------------------------------------------------------------------"
   ]
  },
  {
   "cell_type": "code",
   "execution_count": null,
   "id": "1bef0c29-72a3-4bae-9fd0-e699999821a0",
   "metadata": {},
   "outputs": [],
   "source": [
    "# -----------------------------------------------------------------------------\n",
    "# -------------------- FAST.Farm initial setup --------------------------------\n",
    "# -----------------------------------------------------------------------------\n",
    "# ----------- Initial setup\n",
    "ffcase = FFCaseCreation(path, wts, tmax, zbot, vhub, shear, TIvalue, inflow_deg,\n",
    "                        dt_high=dt_high, ds_high=ds_high, extent_high=extent_high,\n",
    "                        dt_low=dt_low,   ds_low=ds_low,   extent_low=extent_low,\n",
    "                        ffbin=ffbin, mod_wake=mod_wake, yaw_init=yaw_init,\n",
    "                        nSeeds=nSeeds, tsbin=tsbin, inflowType=inflowType,\n",
    "                        refTurb_rot=refTurb_rot, verbose=1)\n",
    "\n",
    "# ----------- Perform auxiliary steps in preparing the case\n",
    "ffcase.setTemplateFilename(templatePath, templateFiles)\n",
    "ffcase.getDomainParameters()\n",
    "ffcase.copyTurbineFilesForEachCase()"
   ]
  },
  {
   "cell_type": "markdown",
   "id": "cc9c02b1-386c-4ff5-8d0c-7487de99443a",
   "metadata": {},
   "source": [
    "Note that we asked for 2 wind speeds (two _conditions_) and 3 inflow directions. A change in direction only doesn't mean we will re-run the inflow, but rather we will rotate the farm. So a sweep in wind direction means another _case_. For each _condition_, we then have 3 _cases_. We can see all the conditions and cases as follows:"
   ]
  },
  {
   "cell_type": "code",
   "execution_count": null,
   "id": "07d95e71-dba6-49f5-81cc-bd9b6edaf897",
   "metadata": {},
   "outputs": [],
   "source": [
    "ffcase.allCond"
   ]
  },
  {
   "cell_type": "code",
   "execution_count": null,
   "id": "002c997f-6cea-4717-8315-f46611ea2634",
   "metadata": {},
   "outputs": [],
   "source": [
    "ffcase.allCases"
   ]
  },
  {
   "cell_type": "code",
   "execution_count": null,
   "id": "7598e6a5-1879-4b8f-a4b6-1bad3fbc2ccb",
   "metadata": {},
   "outputs": [],
   "source": [
    "# Now the plotting function is more helpful. See how the farm was rotated to accomodate the new wind direction\n",
    "# Also note how the turbine has been yawed so that it remains aligned given the change in the wind direction.\n",
    "ffcase.plot()"
   ]
  },
  {
   "cell_type": "markdown",
   "id": "e6895394-0ec5-4e8d-a835-359b55030a21",
   "metadata": {
    "tags": []
   },
   "source": [
    "# 3.2 Yaw misalignment\n",
    "\n",
    "Let's add some yaw misalignment. Let's reduce to a single _condition_ and reduce the sweeps in wdir to only two."
   ]
  },
  {
   "cell_type": "code",
   "execution_count": null,
   "id": "dd893aaa-0680-43fa-9c34-2d0628d0b7a3",
   "metadata": {},
   "outputs": [],
   "source": [
    "# ----------- Case absolute path\n",
    "path = '/projects/tcwnd/rthedin/fastfarm/ff_workshop_nawea2025/ff_examples_ex2a_yaw'\n",
    "\n",
    "# ----------- Turbine parameters\n",
    "# Set the yaw of each turbine for wind dir. One row for each wind direction.\n",
    "yaw_init = [[0, 0, 0, 0, 0, 0],\n",
    "            [8, 8, 8, 8, 8, 8]]\n",
    "\n",
    "# ----------- Desired sweeps\n",
    "vhub       = [10]\n",
    "inflow_deg = [0, 5]\n"
   ]
  },
  {
   "cell_type": "code",
   "execution_count": null,
   "id": "fda9bd2d-64d5-46e1-ae96-fdbc357c42fc",
   "metadata": {},
   "outputs": [],
   "source": [
    "# -----------------------------------------------------------------------------\n",
    "# -------------------- FAST.Farm initial setup --------------------------------\n",
    "# -----------------------------------------------------------------------------\n",
    "# ----------- Initial setup\n",
    "ffcase = FFCaseCreation(path, wts, tmax, zbot, vhub, shear, TIvalue, inflow_deg,\n",
    "                        dt_high=dt_high, ds_high=ds_high, extent_high=extent_high,\n",
    "                        dt_low=dt_low,   ds_low=ds_low,   extent_low=extent_low,\n",
    "                        ffbin=ffbin, mod_wake=mod_wake, yaw_init=yaw_init,\n",
    "                        nSeeds=nSeeds, tsbin=tsbin, inflowType=inflowType,\n",
    "                        refTurb_rot=refTurb_rot, verbose=1)\n",
    "\n",
    "# ----------- Perform auxiliary steps in preparing the case\n",
    "ffcase.setTemplateFilename(templatePath, templateFiles)\n",
    "ffcase.getDomainParameters()\n",
    "ffcase.copyTurbineFilesForEachCase()"
   ]
  },
  {
   "cell_type": "markdown",
   "id": "ec1a97f1-c055-44c2-8531-018fa11fb6e2",
   "metadata": {},
   "source": [
    "Note, however, that the setup above does zero yaw with the 0 wind direction and 8 deg yaw with the 5 deg wind direction. These fields are not combinatory. If we want that, we need to set it up slightly different:"
   ]
  },
  {
   "cell_type": "code",
   "execution_count": null,
   "id": "827ef2b2-dccc-4731-9b04-e07eb58b9c5b",
   "metadata": {},
   "outputs": [],
   "source": [
    "# ----------- Case absolute path\n",
    "path = '/projects/tcwnd/rthedin/fastfarm/ff_workshop_nawea2025/ff_examples_ex2a_yaw2'\n",
    "\n",
    "# ----------- Turbine parameters\n",
    "# Set the yaw of each turbine for wind dir. One row for each wind direction.\n",
    "yaw_init = [[0, 0, 0, 0, 0, 0],\n",
    "            [8, 8, 8, 8, 8, 8],\n",
    "            [0, 0, 0, 0, 0, 0],\n",
    "            [8, 8, 8, 8, 8, 8]]\n",
    "\n",
    "# ----------- Desired sweeps\n",
    "vhub       = [10]\n",
    "inflow_deg = [0, 0, 5, 5]\n"
   ]
  },
  {
   "cell_type": "code",
   "execution_count": null,
   "id": "8a1e2cd8-835d-4dea-812c-de47326efe93",
   "metadata": {},
   "outputs": [],
   "source": [
    "# -----------------------------------------------------------------------------\n",
    "# -------------------- FAST.Farm initial setup --------------------------------\n",
    "# -----------------------------------------------------------------------------\n",
    "# ----------- Initial setup\n",
    "ffcase = FFCaseCreation(path, wts, tmax, zbot, vhub, shear, TIvalue, inflow_deg,\n",
    "                        dt_high=dt_high, ds_high=ds_high, extent_high=extent_high,\n",
    "                        dt_low=dt_low,   ds_low=ds_low,   extent_low=extent_low,\n",
    "                        ffbin=ffbin, mod_wake=mod_wake, yaw_init=yaw_init,\n",
    "                        nSeeds=nSeeds, tsbin=tsbin, inflowType=inflowType,\n",
    "                        refTurb_rot=refTurb_rot, verbose=1)\n",
    "\n",
    "# ----------- Perform auxiliary steps in preparing the case\n",
    "ffcase.setTemplateFilename(templatePath, templateFiles)\n",
    "ffcase.getDomainParameters()\n",
    "ffcase.copyTurbineFilesForEachCase()"
   ]
  },
  {
   "cell_type": "code",
   "execution_count": null,
   "id": "d106cef6-f5a2-4bd4-95b9-affeedc9d680",
   "metadata": {},
   "outputs": [],
   "source": [
    "ffcase.allCases"
   ]
  },
  {
   "cell_type": "code",
   "execution_count": null,
   "id": "ea7726ac-bde8-4805-976f-363bf1b6c6e1",
   "metadata": {},
   "outputs": [],
   "source": [
    "# Note how each turbine has two yaw angles now (less confusing to see on T6)\n",
    "ffcase.plot()"
   ]
  },
  {
   "cell_type": "markdown",
   "id": "ccdcc035-178f-4460-89c3-08e2cfc28e4d",
   "metadata": {},
   "source": [
    "# 4. Some details about the case setups and some bonus things you can do with the toolbox"
   ]
  },
  {
   "cell_type": "markdown",
   "id": "0b7b91b2-0bcc-4aeb-8933-4de13636c426",
   "metadata": {},
   "source": [
    "## 4.1. LES sampling"
   ]
  },
  {
   "cell_type": "code",
   "execution_count": 1,
   "id": "f498f654-793d-4bd5-b288-3163dfadabff",
   "metadata": {},
   "outputs": [],
   "source": [
    "# to do"
   ]
  },
  {
   "cell_type": "markdown",
   "id": "63fae93a-51c5-498b-9274-1d982d016e46",
   "metadata": {},
   "source": [
    "## 4.2. Changing specific variables on all cases"
   ]
  },
  {
   "cell_type": "code",
   "execution_count": null,
   "id": "ead02889-dba6-4574-8ebe-e310536f93b8",
   "metadata": {},
   "outputs": [],
   "source": [
    "# ----------- Wake planes to be saved for each turbine (only 9 planes at most can be saved)\n",
    "# The offset is useful if we start sampling at 0 D, so that we actually have an usable plane that is not _at_ the hub plane. Here we are not interested\n",
    "wakeplanes_in_D = [3]\n",
    "offset = 0\n",
    "# Wake points (not planes). Can have up to 9 per turbine\n",
    "wakepoints_in_D = [1,2,3,4,5,5.9]\n",
    "\n",
    "\n",
    "# Add wake plane saving (the hub-height and vertical thought the centerline planes are already properly configured though `FF_setup()`\n",
    "for cond in range(ffcase.nConditions):\n",
    "    for case in range(ffcase.nCases):\n",
    "        for seed in range(ffcase.nSeeds):\n",
    "            ff_file = os.path.join(ffcase.path, ffcase.condDirList[cond], ffcase.caseDirList[case], f'Seed_{seed}', ffcase.outputFFfilename)\n",
    "            # Parameters for the wake locations\n",
    "            Tx = ffcase.allCases.isel(case=case).Tx.values\n",
    "            # Wake plane (yz plane)\n",
    "            outdistYZ = np.array([[w*ffcase.D for w in wakeplanes_in_D]+tx+offset for tx in Tx]).flatten()\n",
    "            outdiststrYZ = ', '.join(map(str, outdistYZ))\n",
    "            modifyProperty(ff_file, 'NOutDisWindYZ', len(outdistYZ))\n",
    "            modifyProperty(ff_file, 'OutDisWindX', outdiststrYZ)\n",
    "            # Wake (repeated for every turbine within FAST.Farm)\n",
    "            outdist = np.array([w*ffcase.D+offset for w in wakepoints_in_D]).flatten()\n",
    "            outdiststr = ', '.join(map(str, outdist))\n",
    "            modifyProperty(ff_file, 'NOutDist', len(outdist))\n",
    "            modifyProperty(ff_file, 'OutDist', outdiststr)\n",
    "            # Let's change the frequency planes are saved (default is dt_low)\n",
    "            modifyProperty(ff_file, 'WrDisDT', 1)\n"
   ]
  },
  {
   "cell_type": "markdown",
   "id": "63974568-8769-4e1a-95f1-fa7b2933d8de",
   "metadata": {},
   "source": [
    "# 5. Some post-processing"
   ]
  },
  {
   "cell_type": "code",
   "execution_count": null,
   "id": "1df8ae3a-eb71-4445-8625-7a4c08bf17f9",
   "metadata": {},
   "outputs": [],
   "source": [
    "# to do"
   ]
  }
 ],
 "metadata": {
  "kernelspec": {
   "display_name": "Python 3 (ipykernel)",
   "language": "python",
   "name": "python3"
  },
  "language_info": {
   "codemirror_mode": {
    "name": "ipython",
    "version": 3
   },
   "file_extension": ".py",
   "mimetype": "text/x-python",
   "name": "python",
   "nbconvert_exporter": "python",
   "pygments_lexer": "ipython3",
   "version": "3.13.4"
  }
 },
 "nbformat": 4,
 "nbformat_minor": 5
}
